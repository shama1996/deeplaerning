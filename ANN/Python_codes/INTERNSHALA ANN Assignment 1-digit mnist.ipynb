{
 "cells": [
  {
   "cell_type": "code",
   "execution_count": 27,
   "metadata": {},
   "outputs": [],
   "source": [
    "import numpy as np\n",
    "import pandas as pd\n",
    "%matplotlib inline\n",
    "import matplotlib as mpl\n",
    "import matplotlib.pyplot as plt"
   ]
  },
  {
   "cell_type": "code",
   "execution_count": 28,
   "metadata": {},
   "outputs": [],
   "source": [
    "import tensorflow as tf\n",
    "from tensorflow import keras"
   ]
  },
  {
   "cell_type": "code",
   "execution_count": 29,
   "metadata": {},
   "outputs": [],
   "source": [
    "digit_mnist = keras.datasets.mnist\n",
    "(X_train_full, y_train_full), (X_test, y_test) = digit_mnist.load_data()"
   ]
  },
  {
   "cell_type": "code",
   "execution_count": 30,
   "metadata": {},
   "outputs": [
    {
     "data": {
      "text/plain": [
       "<matplotlib.image.AxesImage at 0x22ca98336a0>"
      ]
     },
     "execution_count": 30,
     "metadata": {},
     "output_type": "execute_result"
    },
    {
     "data": {
      "image/png": "[encoded data removed]",
      "text/plain": [
       "<Figure size 432x288 with 1 Axes>"
      ]
     },
     "metadata": {
      "needs_background": "light"
     },
     "output_type": "display_data"
    }
   ],
   "source": [
    "plt.imshow(X_train_full[10])"
   ]
  },
  {
   "cell_type": "code",
   "execution_count": 31,
   "metadata": {},
   "outputs": [
    {
     "data": {
      "text/plain": [
       "5"
      ]
     },
     "execution_count": 31,
     "metadata": {},
     "output_type": "execute_result"
    }
   ],
   "source": [
    "y_train_full[0]"
   ]
  },
  {
   "cell_type": "code",
   "execution_count": 32,
   "metadata": {},
   "outputs": [],
   "source": [
    "X_train_n = X_train_full / 255.\n",
    "X_test_n = X_test / 255."
   ]
  },
  {
   "cell_type": "code",
   "execution_count": 33,
   "metadata": {},
   "outputs": [],
   "source": [
    "X_valid, X_train = X_train_n[:6000], X_train_n[6000:]\n",
    "y_valid, y_train = y_train_full[:6000], y_train_full[6000:]\n",
    "X_test = X_test_n"
   ]
  },
  {
   "cell_type": "code",
   "execution_count": 34,
   "metadata": {},
   "outputs": [
    {
     "data": {
      "text/plain": [
       "array([[0.        , 0.        , 0.        , 0.        , 0.        ,\n",
       "        0.        , 0.        , 0.        , 0.        , 0.        ,\n",
       "        0.        , 0.        , 0.        , 0.        , 0.        ,\n",
       "        0.        , 0.        , 0.        , 0.        , 0.        ,\n",
       "        0.        , 0.        , 0.        , 0.        , 0.        ,\n",
       "        0.        , 0.        , 0.        ],\n",
       "       [0.        , 0.        , 0.        , 0.        , 0.        ,\n",
       "        0.        , 0.        , 0.        , 0.        , 0.        ,\n",
       "        0.        , 0.        , 0.        , 0.        , 0.        ,\n",
       "        0.        , 0.        , 0.        , 0.        , 0.        ,\n",
       "        0.        , 0.        , 0.        , 0.        , 0.        ,\n",
       "        0.        , 0.        , 0.        ],\n",
       "       [0.        , 0.        , 0.        , 0.        , 0.        ,\n",
       "        0.        , 0.        , 0.        , 0.        , 0.        ,\n",
       "        0.        , 0.        , 0.        , 0.        , 0.        ,\n",
       "        0.        , 0.        , 0.        , 0.        , 0.        ,\n",
       "        0.        , 0.        , 0.        , 0.        , 0.        ,\n",
       "        0.        , 0.        , 0.        ],\n",
       "       [0.        , 0.        , 0.        , 0.        , 0.        ,\n",
       "        0.        , 0.        , 0.        , 0.        , 0.        ,\n",
       "        0.        , 0.        , 0.        , 0.        , 0.        ,\n",
       "        0.        , 0.        , 0.        , 0.        , 0.        ,\n",
       "        0.        , 0.        , 0.        , 0.        , 0.        ,\n",
       "        0.        , 0.        , 0.        ],\n",
       "       [0.        , 0.        , 0.        , 0.        , 0.        ,\n",
       "        0.        , 0.        , 0.        , 0.        , 0.        ,\n",
       "        0.        , 0.        , 0.        , 0.        , 0.        ,\n",
       "        0.        , 0.        , 0.        , 0.        , 0.        ,\n",
       "        0.        , 0.        , 0.        , 0.        , 0.        ,\n",
       "        0.        , 0.        , 0.        ],\n",
       "       [0.        , 0.        , 0.        , 0.        , 0.        ,\n",
       "        0.        , 0.        , 0.        , 0.        , 0.        ,\n",
       "        0.        , 0.        , 0.01176471, 0.07058824, 0.07058824,\n",
       "        0.07058824, 0.49411765, 0.53333333, 0.68627451, 0.10196078,\n",
       "        0.65098039, 1.        , 0.96862745, 0.49803922, 0.        ,\n",
       "        0.        , 0.        , 0.        ],\n",
       "       [0.        , 0.        , 0.        , 0.        , 0.        ,\n",
       "        0.        , 0.        , 0.        , 0.11764706, 0.14117647,\n",
       "        0.36862745, 0.60392157, 0.66666667, 0.99215686, 0.99215686,\n",
       "        0.99215686, 0.99215686, 0.99215686, 0.88235294, 0.6745098 ,\n",
       "        0.99215686, 0.94901961, 0.76470588, 0.25098039, 0.        ,\n",
       "        0.        , 0.        , 0.        ],\n",
       "       [0.        , 0.        , 0.        , 0.        , 0.        ,\n",
       "        0.        , 0.        , 0.19215686, 0.93333333, 0.99215686,\n",
       "        0.99215686, 0.99215686, 0.99215686, 0.99215686, 0.99215686,\n",
       "        0.99215686, 0.99215686, 0.98431373, 0.36470588, 0.32156863,\n",
       "        0.32156863, 0.21960784, 0.15294118, 0.        , 0.        ,\n",
       "        0.        , 0.        , 0.        ],\n",
       "       [0.        , 0.        , 0.        , 0.        , 0.        ,\n",
       "        0.        , 0.        , 0.07058824, 0.85882353, 0.99215686,\n",
       "        0.99215686, 0.99215686, 0.99215686, 0.99215686, 0.77647059,\n",
       "        0.71372549, 0.96862745, 0.94509804, 0.        , 0.        ,\n",
       "        0.        , 0.        , 0.        , 0.        , 0.        ,\n",
       "        0.        , 0.        , 0.        ],\n",
       "       [0.        , 0.        , 0.        , 0.        , 0.        ,\n",
       "        0.        , 0.        , 0.        , 0.31372549, 0.61176471,\n",
       "        0.41960784, 0.99215686, 0.99215686, 0.80392157, 0.04313725,\n",
       "        0.        , 0.16862745, 0.60392157, 0.        , 0.        ,\n",
       "        0.        , 0.        , 0.        , 0.        , 0.        ,\n",
       "        0.        , 0.        , 0.        ],\n",
       "       [0.        , 0.        , 0.        , 0.        , 0.        ,\n",
       "        0.        , 0.        , 0.        , 0.        , 0.05490196,\n",
       "        0.00392157, 0.60392157, 0.99215686, 0.35294118, 0.        ,\n",
       "        0.        , 0.        , 0.        , 0.        , 0.        ,\n",
       "        0.        , 0.        , 0.        , 0.        , 0.        ,\n",
       "        0.        , 0.        , 0.        ],\n",
       "       [0.        , 0.        , 0.        , 0.        , 0.        ,\n",
       "        0.        , 0.        , 0.        , 0.        , 0.        ,\n",
       "        0.        , 0.54509804, 0.99215686, 0.74509804, 0.00784314,\n",
       "        0.        , 0.        , 0.        , 0.        , 0.        ,\n",
       "        0.        , 0.        , 0.        , 0.        , 0.        ,\n",
       "        0.        , 0.        , 0.        ],\n",
       "       [0.        , 0.        , 0.        , 0.        , 0.        ,\n",
       "        0.        , 0.        , 0.        , 0.        , 0.        ,\n",
       "        0.        , 0.04313725, 0.74509804, 0.99215686, 0.2745098 ,\n",
       "        0.        , 0.        , 0.        , 0.        , 0.        ,\n",
       "        0.        , 0.        , 0.        , 0.        , 0.        ,\n",
       "        0.        , 0.        , 0.        ],\n",
       "       [0.        , 0.        , 0.        , 0.        , 0.        ,\n",
       "        0.        , 0.        , 0.        , 0.        , 0.        ,\n",
       "        0.        , 0.        , 0.1372549 , 0.94509804, 0.88235294,\n",
       "        0.62745098, 0.42352941, 0.00392157, 0.        , 0.        ,\n",
       "        0.        , 0.        , 0.        , 0.        , 0.        ,\n",
       "        0.        , 0.        , 0.        ],\n",
       "       [0.        , 0.        , 0.        , 0.        , 0.        ,\n",
       "        0.        , 0.        , 0.        , 0.        , 0.        ,\n",
       "        0.        , 0.        , 0.        , 0.31764706, 0.94117647,\n",
       "        0.99215686, 0.99215686, 0.46666667, 0.09803922, 0.        ,\n",
       "        0.        , 0.        , 0.        , 0.        , 0.        ,\n",
       "        0.        , 0.        , 0.        ],\n",
       "       [0.        , 0.        , 0.        , 0.        , 0.        ,\n",
       "        0.        , 0.        , 0.        , 0.        , 0.        ,\n",
       "        0.        , 0.        , 0.        , 0.        , 0.17647059,\n",
       "        0.72941176, 0.99215686, 0.99215686, 0.58823529, 0.10588235,\n",
       "        0.        , 0.        , 0.        , 0.        , 0.        ,\n",
       "        0.        , 0.        , 0.        ],\n",
       "       [0.        , 0.        , 0.        , 0.        , 0.        ,\n",
       "        0.        , 0.        , 0.        , 0.        , 0.        ,\n",
       "        0.        , 0.        , 0.        , 0.        , 0.        ,\n",
       "        0.0627451 , 0.36470588, 0.98823529, 0.99215686, 0.73333333,\n",
       "        0.        , 0.        , 0.        , 0.        , 0.        ,\n",
       "        0.        , 0.        , 0.        ],\n",
       "       [0.        , 0.        , 0.        , 0.        , 0.        ,\n",
       "        0.        , 0.        , 0.        , 0.        , 0.        ,\n",
       "        0.        , 0.        , 0.        , 0.        , 0.        ,\n",
       "        0.        , 0.        , 0.97647059, 0.99215686, 0.97647059,\n",
       "        0.25098039, 0.        , 0.        , 0.        , 0.        ,\n",
       "        0.        , 0.        , 0.        ],\n",
       "       [0.        , 0.        , 0.        , 0.        , 0.        ,\n",
       "        0.        , 0.        , 0.        , 0.        , 0.        ,\n",
       "        0.        , 0.        , 0.        , 0.        , 0.18039216,\n",
       "        0.50980392, 0.71764706, 0.99215686, 0.99215686, 0.81176471,\n",
       "        0.00784314, 0.        , 0.        , 0.        , 0.        ,\n",
       "        0.        , 0.        , 0.        ],\n",
       "       [0.        , 0.        , 0.        , 0.        , 0.        ,\n",
       "        0.        , 0.        , 0.        , 0.        , 0.        ,\n",
       "        0.        , 0.        , 0.15294118, 0.58039216, 0.89803922,\n",
       "        0.99215686, 0.99215686, 0.99215686, 0.98039216, 0.71372549,\n",
       "        0.        , 0.        , 0.        , 0.        , 0.        ,\n",
       "        0.        , 0.        , 0.        ],\n",
       "       [0.        , 0.        , 0.        , 0.        , 0.        ,\n",
       "        0.        , 0.        , 0.        , 0.        , 0.        ,\n",
       "        0.09411765, 0.44705882, 0.86666667, 0.99215686, 0.99215686,\n",
       "        0.99215686, 0.99215686, 0.78823529, 0.30588235, 0.        ,\n",
       "        0.        , 0.        , 0.        , 0.        , 0.        ,\n",
       "        0.        , 0.        , 0.        ],\n",
       "       [0.        , 0.        , 0.        , 0.        , 0.        ,\n",
       "        0.        , 0.        , 0.        , 0.09019608, 0.25882353,\n",
       "        0.83529412, 0.99215686, 0.99215686, 0.99215686, 0.99215686,\n",
       "        0.77647059, 0.31764706, 0.00784314, 0.        , 0.        ,\n",
       "        0.        , 0.        , 0.        , 0.        , 0.        ,\n",
       "        0.        , 0.        , 0.        ],\n",
       "       [0.        , 0.        , 0.        , 0.        , 0.        ,\n",
       "        0.        , 0.07058824, 0.67058824, 0.85882353, 0.99215686,\n",
       "        0.99215686, 0.99215686, 0.99215686, 0.76470588, 0.31372549,\n",
       "        0.03529412, 0.        , 0.        , 0.        , 0.        ,\n",
       "        0.        , 0.        , 0.        , 0.        , 0.        ,\n",
       "        0.        , 0.        , 0.        ],\n",
       "       [0.        , 0.        , 0.        , 0.        , 0.21568627,\n",
       "        0.6745098 , 0.88627451, 0.99215686, 0.99215686, 0.99215686,\n",
       "        0.99215686, 0.95686275, 0.52156863, 0.04313725, 0.        ,\n",
       "        0.        , 0.        , 0.        , 0.        , 0.        ,\n",
       "        0.        , 0.        , 0.        , 0.        , 0.        ,\n",
       "        0.        , 0.        , 0.        ],\n",
       "       [0.        , 0.        , 0.        , 0.        , 0.53333333,\n",
       "        0.99215686, 0.99215686, 0.99215686, 0.83137255, 0.52941176,\n",
       "        0.51764706, 0.0627451 , 0.        , 0.        , 0.        ,\n",
       "        0.        , 0.        , 0.        , 0.        , 0.        ,\n",
       "        0.        , 0.        , 0.        , 0.        , 0.        ,\n",
       "        0.        , 0.        , 0.        ],\n",
       "       [0.        , 0.        , 0.        , 0.        , 0.        ,\n",
       "        0.        , 0.        , 0.        , 0.        , 0.        ,\n",
       "        0.        , 0.        , 0.        , 0.        , 0.        ,\n",
       "        0.        , 0.        , 0.        , 0.        , 0.        ,\n",
       "        0.        , 0.        , 0.        , 0.        , 0.        ,\n",
       "        0.        , 0.        , 0.        ],\n",
       "       [0.        , 0.        , 0.        , 0.        , 0.        ,\n",
       "        0.        , 0.        , 0.        , 0.        , 0.        ,\n",
       "        0.        , 0.        , 0.        , 0.        , 0.        ,\n",
       "        0.        , 0.        , 0.        , 0.        , 0.        ,\n",
       "        0.        , 0.        , 0.        , 0.        , 0.        ,\n",
       "        0.        , 0.        , 0.        ],\n",
       "       [0.        , 0.        , 0.        , 0.        , 0.        ,\n",
       "        0.        , 0.        , 0.        , 0.        , 0.        ,\n",
       "        0.        , 0.        , 0.        , 0.        , 0.        ,\n",
       "        0.        , 0.        , 0.        , 0.        , 0.        ,\n",
       "        0.        , 0.        , 0.        , 0.        , 0.        ,\n",
       "        0.        , 0.        , 0.        ]])"
      ]
     },
     "execution_count": 34,
     "metadata": {},
     "output_type": "execute_result"
    }
   ],
   "source": [
    "X_valid[0]"
   ]
  },
  {
   "cell_type": "code",
   "execution_count": 35,
   "metadata": {},
   "outputs": [],
   "source": [
    "np.random.seed(42)\n",
    "tf.random.set_seed(42)"
   ]
  },
  {
   "cell_type": "code",
   "execution_count": 36,
   "metadata": {},
   "outputs": [],
   "source": [
    "model = keras.models.Sequential()\n",
    "model.add(keras.layers.Flatten(input_shape=[28, 28]))\n",
    "model.add(keras.layers.Dense(200, activation=\"relu\"))\n",
    "model.add(keras.layers.Dense(100, activation=\"relu\"))\n",
    "model.add(keras.layers.Dense(10, activation=\"softmax\"))"
   ]
  },
  {
   "cell_type": "code",
   "execution_count": 37,
   "metadata": {},
   "outputs": [
    {
     "name": "stdout",
     "output_type": "stream",
     "text": [
      "Model: \"sequential_2\"\n",
      "_________________________________________________________________\n",
      "Layer (type)                 Output Shape              Param #   \n",
      "=================================================================\n",
      "flatten_2 (Flatten)          (None, 784)               0         \n",
      "_________________________________________________________________\n",
      "dense_6 (Dense)              (None, 200)               157000    \n",
      "_________________________________________________________________\n",
      "dense_7 (Dense)              (None, 100)               20100     \n",
      "_________________________________________________________________\n",
      "dense_8 (Dense)              (None, 10)                1010      \n",
      "=================================================================\n",
      "Total params: 178,110\n",
      "Trainable params: 178,110\n",
      "Non-trainable params: 0\n",
      "_________________________________________________________________\n"
     ]
    }
   ],
   "source": [
    "model.summary()"
   ]
  },
  {
   "cell_type": "code",
   "execution_count": 38,
   "metadata": {},
   "outputs": [
    {
     "name": "stdout",
     "output_type": "stream",
     "text": [
      "('You must install pydot (`pip install pydot`) and install graphviz (see instructions at https://graphviz.gitlab.io/download/) ', 'for plot_model/model_to_dot to work.')\n"
     ]
    }
   ],
   "source": [
    "import pydot\n",
    "keras.utils.plot_model(model)"
   ]
  },
  {
   "cell_type": "code",
   "execution_count": 39,
   "metadata": {},
   "outputs": [],
   "source": [
    "weights, biases = model.layers[1].get_weights()"
   ]
  },
  {
   "cell_type": "code",
   "execution_count": 40,
   "metadata": {},
   "outputs": [
    {
     "data": {
      "text/plain": [
       "array([[ 0.02570029, -0.00921319, -0.02297589, ...,  0.03759523,\n",
       "         0.01990343, -0.00419658],\n",
       "       [ 0.0493257 ,  0.07532704,  0.04591972, ...,  0.01272719,\n",
       "         0.07017377,  0.06893378],\n",
       "       [-0.00902112,  0.0490617 ,  0.01508749, ...,  0.00632862,\n",
       "        -0.02900814, -0.04371899],\n",
       "       ...,\n",
       "       [ 0.06044598,  0.02830634,  0.04788385, ..., -0.02156743,\n",
       "        -0.06206664, -0.06688078],\n",
       "       [ 0.03822813,  0.07278952,  0.02177001, ..., -0.04696669,\n",
       "        -0.04292265,  0.0316055 ],\n",
       "       [-0.01534326, -0.03178874, -0.04308994, ...,  0.00643031,\n",
       "         0.02572545, -0.03443564]], dtype=float32)"
      ]
     },
     "execution_count": 40,
     "metadata": {},
     "output_type": "execute_result"
    }
   ],
   "source": [
    "weights"
   ]
  },
  {
   "cell_type": "code",
   "execution_count": 41,
   "metadata": {},
   "outputs": [
    {
     "data": {
      "text/plain": [
       "(784, 200)"
      ]
     },
     "execution_count": 41,
     "metadata": {},
     "output_type": "execute_result"
    }
   ],
   "source": [
    "weights.shape"
   ]
  },
  {
   "cell_type": "code",
   "execution_count": 42,
   "metadata": {},
   "outputs": [
    {
     "data": {
      "text/plain": [
       "array([0., 0., 0., 0., 0., 0., 0., 0., 0., 0., 0., 0., 0., 0., 0., 0., 0.,\n",
       "       0., 0., 0., 0., 0., 0., 0., 0., 0., 0., 0., 0., 0., 0., 0., 0., 0.,\n",
       "       0., 0., 0., 0., 0., 0., 0., 0., 0., 0., 0., 0., 0., 0., 0., 0., 0.,\n",
       "       0., 0., 0., 0., 0., 0., 0., 0., 0., 0., 0., 0., 0., 0., 0., 0., 0.,\n",
       "       0., 0., 0., 0., 0., 0., 0., 0., 0., 0., 0., 0., 0., 0., 0., 0., 0.,\n",
       "       0., 0., 0., 0., 0., 0., 0., 0., 0., 0., 0., 0., 0., 0., 0., 0., 0.,\n",
       "       0., 0., 0., 0., 0., 0., 0., 0., 0., 0., 0., 0., 0., 0., 0., 0., 0.,\n",
       "       0., 0., 0., 0., 0., 0., 0., 0., 0., 0., 0., 0., 0., 0., 0., 0., 0.,\n",
       "       0., 0., 0., 0., 0., 0., 0., 0., 0., 0., 0., 0., 0., 0., 0., 0., 0.,\n",
       "       0., 0., 0., 0., 0., 0., 0., 0., 0., 0., 0., 0., 0., 0., 0., 0., 0.,\n",
       "       0., 0., 0., 0., 0., 0., 0., 0., 0., 0., 0., 0., 0., 0., 0., 0., 0.,\n",
       "       0., 0., 0., 0., 0., 0., 0., 0., 0., 0., 0., 0., 0.], dtype=float32)"
      ]
     },
     "execution_count": 42,
     "metadata": {},
     "output_type": "execute_result"
    }
   ],
   "source": [
    "biases"
   ]
  },
  {
   "cell_type": "code",
   "execution_count": 43,
   "metadata": {},
   "outputs": [
    {
     "data": {
      "text/plain": [
       "(200,)"
      ]
     },
     "execution_count": 43,
     "metadata": {},
     "output_type": "execute_result"
    }
   ],
   "source": [
    "biases.shape"
   ]
  },
  {
   "cell_type": "code",
   "execution_count": 44,
   "metadata": {},
   "outputs": [],
   "source": [
    "model.compile(loss=\"sparse_categorical_crossentropy\",\n",
    "              optimizer=\"sgd\",\n",
    "              metrics=[\"accuracy\"])"
   ]
  },
  {
   "cell_type": "code",
   "execution_count": 45,
   "metadata": {},
   "outputs": [
    {
     "name": "stdout",
     "output_type": "stream",
     "text": [
      "Epoch 1/60\n",
      "1688/1688 [==============================] - 6s 3ms/step - loss: 0.6607 - accuracy: 0.8267 - val_loss: 0.3216 - val_accuracy: 0.9125\n",
      "Epoch 2/60\n",
      "1688/1688 [==============================] - 5s 3ms/step - loss: 0.3006 - accuracy: 0.9141 - val_loss: 0.2585 - val_accuracy: 0.9283\n",
      "Epoch 3/60\n",
      "1688/1688 [==============================] - 5s 3ms/step - loss: 0.2488 - accuracy: 0.9292 - val_loss: 0.2254 - val_accuracy: 0.9383\n",
      "Epoch 4/60\n",
      "1688/1688 [==============================] - 8s 5ms/step - loss: 0.2151 - accuracy: 0.9390 - val_loss: 0.1960 - val_accuracy: 0.9442\n",
      "Epoch 5/60\n",
      "1688/1688 [==============================] - 5s 3ms/step - loss: 0.1893 - accuracy: 0.9462 - val_loss: 0.1790 - val_accuracy: 0.9485\n",
      "Epoch 6/60\n",
      "1688/1688 [==============================] - 5s 3ms/step - loss: 0.1690 - accuracy: 0.9517 - val_loss: 0.1636 - val_accuracy: 0.9523\n",
      "Epoch 7/60\n",
      "1688/1688 [==============================] - 5s 3ms/step - loss: 0.1521 - accuracy: 0.9570 - val_loss: 0.1482 - val_accuracy: 0.9588\n",
      "Epoch 8/60\n",
      "1688/1688 [==============================] - 5s 3ms/step - loss: 0.1378 - accuracy: 0.9612 - val_loss: 0.1416 - val_accuracy: 0.9612\n",
      "Epoch 9/60\n",
      "1688/1688 [==============================] - 5s 3ms/step - loss: 0.1260 - accuracy: 0.9642 - val_loss: 0.1316 - val_accuracy: 0.9650\n",
      "Epoch 10/60\n",
      "1688/1688 [==============================] - 5s 3ms/step - loss: 0.1157 - accuracy: 0.9673 - val_loss: 0.1274 - val_accuracy: 0.9637\n",
      "Epoch 11/60\n",
      "1688/1688 [==============================] - 5s 3ms/step - loss: 0.1067 - accuracy: 0.9698 - val_loss: 0.1158 - val_accuracy: 0.9678\n",
      "Epoch 12/60\n",
      "1688/1688 [==============================] - 5s 3ms/step - loss: 0.0991 - accuracy: 0.9722 - val_loss: 0.1119 - val_accuracy: 0.9700\n",
      "Epoch 13/60\n",
      "1688/1688 [==============================] - 5s 3ms/step - loss: 0.0917 - accuracy: 0.9745 - val_loss: 0.1058 - val_accuracy: 0.9712\n",
      "Epoch 14/60\n",
      "1688/1688 [==============================] - 5s 3ms/step - loss: 0.0857 - accuracy: 0.9766 - val_loss: 0.1005 - val_accuracy: 0.9722\n",
      "Epoch 15/60\n",
      "1688/1688 [==============================] - 5s 3ms/step - loss: 0.0802 - accuracy: 0.9776 - val_loss: 0.0991 - val_accuracy: 0.9720\n",
      "Epoch 16/60\n",
      "1688/1688 [==============================] - 5s 3ms/step - loss: 0.0752 - accuracy: 0.9794 - val_loss: 0.0945 - val_accuracy: 0.9730\n",
      "Epoch 17/60\n",
      "1688/1688 [==============================] - 5s 3ms/step - loss: 0.0707 - accuracy: 0.9807 - val_loss: 0.0935 - val_accuracy: 0.9727\n",
      "Epoch 18/60\n",
      "1688/1688 [==============================] - 5s 3ms/step - loss: 0.0660 - accuracy: 0.9818 - val_loss: 0.0893 - val_accuracy: 0.9755\n",
      "Epoch 19/60\n",
      "1688/1688 [==============================] - 5s 3ms/step - loss: 0.0625 - accuracy: 0.9830 - val_loss: 0.0894 - val_accuracy: 0.9737\n",
      "Epoch 20/60\n",
      "1688/1688 [==============================] - 5s 3ms/step - loss: 0.0588 - accuracy: 0.9841 - val_loss: 0.0874 - val_accuracy: 0.9747\n",
      "Epoch 21/60\n",
      "1688/1688 [==============================] - 5s 3ms/step - loss: 0.0556 - accuracy: 0.9850 - val_loss: 0.0865 - val_accuracy: 0.9757\n",
      "Epoch 22/60\n",
      "1688/1688 [==============================] - 5s 3ms/step - loss: 0.0525 - accuracy: 0.9860 - val_loss: 0.0838 - val_accuracy: 0.9760\n",
      "Epoch 23/60\n",
      "1688/1688 [==============================] - 5s 3ms/step - loss: 0.0496 - accuracy: 0.9865 - val_loss: 0.0831 - val_accuracy: 0.9765\n",
      "Epoch 24/60\n",
      "1688/1688 [==============================] - 5s 3ms/step - loss: 0.0468 - accuracy: 0.9875 - val_loss: 0.0823 - val_accuracy: 0.9752\n",
      "Epoch 25/60\n",
      "1688/1688 [==============================] - 5s 3ms/step - loss: 0.0443 - accuracy: 0.9884 - val_loss: 0.0833 - val_accuracy: 0.9747\n",
      "Epoch 26/60\n",
      "1688/1688 [==============================] - 5s 3ms/step - loss: 0.0421 - accuracy: 0.9888 - val_loss: 0.0812 - val_accuracy: 0.9763\n",
      "Epoch 27/60\n",
      "1688/1688 [==============================] - 5s 3ms/step - loss: 0.0398 - accuracy: 0.9892 - val_loss: 0.0772 - val_accuracy: 0.9777\n",
      "Epoch 28/60\n",
      "1688/1688 [==============================] - 5s 3ms/step - loss: 0.0378 - accuracy: 0.9902 - val_loss: 0.0773 - val_accuracy: 0.9767\n",
      "Epoch 29/60\n",
      "1688/1688 [==============================] - 5s 3ms/step - loss: 0.0358 - accuracy: 0.9906 - val_loss: 0.0759 - val_accuracy: 0.9783\n",
      "Epoch 30/60\n",
      "1688/1688 [==============================] - 5s 3ms/step - loss: 0.0339 - accuracy: 0.9916 - val_loss: 0.0784 - val_accuracy: 0.9772\n",
      "Epoch 31/60\n",
      "1688/1688 [==============================] - 5s 3ms/step - loss: 0.0322 - accuracy: 0.9920 - val_loss: 0.0751 - val_accuracy: 0.9777\n",
      "Epoch 32/60\n",
      "1688/1688 [==============================] - 5s 3ms/step - loss: 0.0304 - accuracy: 0.9927 - val_loss: 0.0773 - val_accuracy: 0.9775\n",
      "Epoch 33/60\n",
      "1688/1688 [==============================] - 5s 3ms/step - loss: 0.0290 - accuracy: 0.9930 - val_loss: 0.0764 - val_accuracy: 0.9778\n",
      "Epoch 34/60\n",
      "1688/1688 [==============================] - 5s 3ms/step - loss: 0.0274 - accuracy: 0.9937 - val_loss: 0.0763 - val_accuracy: 0.9780\n",
      "Epoch 35/60\n",
      "1688/1688 [==============================] - 5s 3ms/step - loss: 0.0260 - accuracy: 0.9941 - val_loss: 0.0748 - val_accuracy: 0.9783\n",
      "Epoch 36/60\n",
      "1688/1688 [==============================] - 5s 3ms/step - loss: 0.0247 - accuracy: 0.9946 - val_loss: 0.0797 - val_accuracy: 0.9772\n",
      "Epoch 37/60\n",
      "1688/1688 [==============================] - 5s 3ms/step - loss: 0.0237 - accuracy: 0.9944 - val_loss: 0.0754 - val_accuracy: 0.9777\n",
      "Epoch 38/60\n",
      "1688/1688 [==============================] - 5s 3ms/step - loss: 0.0223 - accuracy: 0.9954 - val_loss: 0.0759 - val_accuracy: 0.9780\n",
      "Epoch 39/60\n",
      "1688/1688 [==============================] - 5s 3ms/step - loss: 0.0212 - accuracy: 0.9959 - val_loss: 0.0750 - val_accuracy: 0.9775\n",
      "Epoch 40/60\n",
      "1688/1688 [==============================] - 5s 3ms/step - loss: 0.0202 - accuracy: 0.9961 - val_loss: 0.0755 - val_accuracy: 0.9785\n",
      "Epoch 41/60\n",
      "1688/1688 [==============================] - 5s 3ms/step - loss: 0.0192 - accuracy: 0.9968 - val_loss: 0.0753 - val_accuracy: 0.9782\n",
      "Epoch 42/60\n",
      "1688/1688 [==============================] - 5s 3ms/step - loss: 0.0183 - accuracy: 0.9968 - val_loss: 0.0768 - val_accuracy: 0.9782\n",
      "Epoch 43/60\n",
      "1688/1688 [==============================] - 5s 3ms/step - loss: 0.0174 - accuracy: 0.9971 - val_loss: 0.0823 - val_accuracy: 0.9763\n",
      "Epoch 44/60\n",
      "1688/1688 [==============================] - 5s 3ms/step - loss: 0.0166 - accuracy: 0.9973 - val_loss: 0.0754 - val_accuracy: 0.9785\n",
      "Epoch 45/60\n",
      "1688/1688 [==============================] - 5s 3ms/step - loss: 0.0157 - accuracy: 0.9977 - val_loss: 0.0755 - val_accuracy: 0.9777\n",
      "Epoch 46/60\n",
      "1688/1688 [==============================] - 5s 3ms/step - loss: 0.0151 - accuracy: 0.9979 - val_loss: 0.0760 - val_accuracy: 0.9780\n",
      "Epoch 47/60\n",
      "1688/1688 [==============================] - 5s 3ms/step - loss: 0.0143 - accuracy: 0.9980 - val_loss: 0.0767 - val_accuracy: 0.9775\n",
      "Epoch 48/60\n",
      "1688/1688 [==============================] - 5s 3ms/step - loss: 0.0137 - accuracy: 0.9984 - val_loss: 0.0768 - val_accuracy: 0.9768\n",
      "Epoch 49/60\n",
      "1688/1688 [==============================] - 5s 3ms/step - loss: 0.0131 - accuracy: 0.9982 - val_loss: 0.0775 - val_accuracy: 0.9773\n",
      "Epoch 50/60\n",
      "1688/1688 [==============================] - 5s 3ms/step - loss: 0.0124 - accuracy: 0.9985 - val_loss: 0.0789 - val_accuracy: 0.9770\n",
      "Epoch 51/60\n",
      "1688/1688 [==============================] - 5s 3ms/step - loss: 0.0120 - accuracy: 0.9986 - val_loss: 0.0768 - val_accuracy: 0.9773\n",
      "Epoch 52/60\n",
      "1688/1688 [==============================] - 5s 3ms/step - loss: 0.0114 - accuracy: 0.9988 - val_loss: 0.0761 - val_accuracy: 0.9788\n",
      "Epoch 53/60\n",
      "1688/1688 [==============================] - 5s 3ms/step - loss: 0.0109 - accuracy: 0.9988 - val_loss: 0.0779 - val_accuracy: 0.9773\n",
      "Epoch 54/60\n",
      "1688/1688 [==============================] - 5s 3ms/step - loss: 0.0105 - accuracy: 0.9989 - val_loss: 0.0762 - val_accuracy: 0.9790\n",
      "Epoch 55/60\n",
      "1688/1688 [==============================] - 5s 3ms/step - loss: 0.0100 - accuracy: 0.9989 - val_loss: 0.0780 - val_accuracy: 0.9782\n",
      "Epoch 56/60\n",
      "1688/1688 [==============================] - 5s 3ms/step - loss: 0.0095 - accuracy: 0.9991 - val_loss: 0.0788 - val_accuracy: 0.9780\n",
      "Epoch 57/60\n"
     ]
    },
    {
     "name": "stdout",
     "output_type": "stream",
     "text": [
      "1688/1688 [==============================] - 5s 3ms/step - loss: 0.0091 - accuracy: 0.9993 - val_loss: 0.0792 - val_accuracy: 0.9778\n",
      "Epoch 58/60\n",
      "1688/1688 [==============================] - 5s 3ms/step - loss: 0.0088 - accuracy: 0.9992 - val_loss: 0.0774 - val_accuracy: 0.9780\n",
      "Epoch 59/60\n",
      "1688/1688 [==============================] - 5s 3ms/step - loss: 0.0085 - accuracy: 0.9993 - val_loss: 0.0798 - val_accuracy: 0.9775\n",
      "Epoch 60/60\n",
      "1688/1688 [==============================] - 5s 3ms/step - loss: 0.0081 - accuracy: 0.9994 - val_loss: 0.0804 - val_accuracy: 0.9778\n"
     ]
    }
   ],
   "source": [
    "model_history = model.fit(X_train, y_train, epochs=60,\n",
    "                    validation_data=(X_valid, y_valid))"
   ]
  },
  {
   "cell_type": "code",
   "execution_count": 46,
   "metadata": {},
   "outputs": [
    {
     "data": {
      "text/plain": [
       "{'verbose': 1, 'epochs': 60, 'steps': 1688}"
      ]
     },
     "execution_count": 46,
     "metadata": {},
     "output_type": "execute_result"
    }
   ],
   "source": [
    "model_history.params"
   ]
  },
  {
   "cell_type": "code",
   "execution_count": 47,
   "metadata": {},
   "outputs": [
    {
     "data": {
      "text/plain": [
       "{'loss': [0.6606810092926025,\n",
       "  0.30064913630485535,\n",
       "  0.2487981915473938,\n",
       "  0.21510349214076996,\n",
       "  0.18926940858364105,\n",
       "  0.16897433996200562,\n",
       "  0.15208911895751953,\n",
       "  0.1378149390220642,\n",
       "  0.12602238357067108,\n",
       "  0.11574868857860565,\n",
       "  0.10665197670459747,\n",
       "  0.09912078082561493,\n",
       "  0.0917426273226738,\n",
       "  0.08571787178516388,\n",
       "  0.08017408847808838,\n",
       "  0.07520255446434021,\n",
       "  0.07071936130523682,\n",
       "  0.06596267968416214,\n",
       "  0.062466055154800415,\n",
       "  0.058755479753017426,\n",
       "  0.055551666766405106,\n",
       "  0.052507057785987854,\n",
       "  0.04960666969418526,\n",
       "  0.046830616891384125,\n",
       "  0.044307250529527664,\n",
       "  0.04205114766955376,\n",
       "  0.0398421585559845,\n",
       "  0.03780525550246239,\n",
       "  0.035807617008686066,\n",
       "  0.03386164829134941,\n",
       "  0.03217605873942375,\n",
       "  0.030398977920413017,\n",
       "  0.02898690290749073,\n",
       "  0.0274195596575737,\n",
       "  0.026024673134088516,\n",
       "  0.02466435916721821,\n",
       "  0.023699229583144188,\n",
       "  0.022346055135130882,\n",
       "  0.02120090276002884,\n",
       "  0.02023129351437092,\n",
       "  0.019154328852891922,\n",
       "  0.018278125673532486,\n",
       "  0.01742246374487877,\n",
       "  0.016642659902572632,\n",
       "  0.015747224912047386,\n",
       "  0.015075812116265297,\n",
       "  0.014322405681014061,\n",
       "  0.013703111559152603,\n",
       "  0.013052339665591717,\n",
       "  0.012432747520506382,\n",
       "  0.011950258165597916,\n",
       "  0.011379428207874298,\n",
       "  0.010932862758636475,\n",
       "  0.010491376742720604,\n",
       "  0.010008840821683407,\n",
       "  0.009500830434262753,\n",
       "  0.009097353555262089,\n",
       "  0.008813888765871525,\n",
       "  0.008461824618279934,\n",
       "  0.00807916559278965],\n",
       " 'accuracy': [0.8267222046852112,\n",
       "  0.9140740633010864,\n",
       "  0.9292036890983582,\n",
       "  0.9389814734458923,\n",
       "  0.9461851716041565,\n",
       "  0.9516666531562805,\n",
       "  0.9569629430770874,\n",
       "  0.9611666798591614,\n",
       "  0.9641851782798767,\n",
       "  0.9672777652740479,\n",
       "  0.9698148369789124,\n",
       "  0.9722037315368652,\n",
       "  0.974481463432312,\n",
       "  0.9766111373901367,\n",
       "  0.977648138999939,\n",
       "  0.9793888926506042,\n",
       "  0.9807407259941101,\n",
       "  0.9818333387374878,\n",
       "  0.982962965965271,\n",
       "  0.9841111302375793,\n",
       "  0.9849629402160645,\n",
       "  0.9860000014305115,\n",
       "  0.9865000247955322,\n",
       "  0.9874629378318787,\n",
       "  0.9883518815040588,\n",
       "  0.988777756690979,\n",
       "  0.9891852140426636,\n",
       "  0.9902036786079407,\n",
       "  0.990574061870575,\n",
       "  0.9915740489959717,\n",
       "  0.9919815063476562,\n",
       "  0.9927407503128052,\n",
       "  0.9929999709129333,\n",
       "  0.9937037229537964,\n",
       "  0.9940740466117859,\n",
       "  0.9946110844612122,\n",
       "  0.9943888783454895,\n",
       "  0.9954444169998169,\n",
       "  0.995888888835907,\n",
       "  0.9960926175117493,\n",
       "  0.9967777729034424,\n",
       "  0.9968147873878479,\n",
       "  0.9971110820770264,\n",
       "  0.9973333477973938,\n",
       "  0.9977037310600281,\n",
       "  0.9978703856468201,\n",
       "  0.9979814887046814,\n",
       "  0.9983888864517212,\n",
       "  0.9982222318649292,\n",
       "  0.9985370635986328,\n",
       "  0.9985740780830383,\n",
       "  0.9987592697143555,\n",
       "  0.9988148212432861,\n",
       "  0.9988889098167419,\n",
       "  0.9989073872566223,\n",
       "  0.9991296529769897,\n",
       "  0.9992592334747314,\n",
       "  0.9992222189903259,\n",
       "  0.9993333220481873,\n",
       "  0.9993518590927124],\n",
       " 'val_loss': [0.32164785265922546,\n",
       "  0.2585418224334717,\n",
       "  0.2253849059343338,\n",
       "  0.19604945182800293,\n",
       "  0.17900413274765015,\n",
       "  0.1636067032814026,\n",
       "  0.14815746247768402,\n",
       "  0.14164677262306213,\n",
       "  0.13159407675266266,\n",
       "  0.12736554443836212,\n",
       "  0.11575452983379364,\n",
       "  0.11188310384750366,\n",
       "  0.10580950230360031,\n",
       "  0.10050511360168457,\n",
       "  0.09905359148979187,\n",
       "  0.09453457593917847,\n",
       "  0.09345242381095886,\n",
       "  0.08930031210184097,\n",
       "  0.08935800194740295,\n",
       "  0.08742451667785645,\n",
       "  0.08653265237808228,\n",
       "  0.08381351083517075,\n",
       "  0.08312604576349258,\n",
       "  0.08229968696832657,\n",
       "  0.0832933858036995,\n",
       "  0.08118516206741333,\n",
       "  0.07722669839859009,\n",
       "  0.07733573764562607,\n",
       "  0.07588501274585724,\n",
       "  0.07837722450494766,\n",
       "  0.07514160871505737,\n",
       "  0.07730613648891449,\n",
       "  0.07639876008033752,\n",
       "  0.07627107203006744,\n",
       "  0.07475403696298599,\n",
       "  0.07970844209194183,\n",
       "  0.07536651194095612,\n",
       "  0.0758603885769844,\n",
       "  0.07498141378164291,\n",
       "  0.07545890659093857,\n",
       "  0.07527799159288406,\n",
       "  0.0767953097820282,\n",
       "  0.08233708143234253,\n",
       "  0.07541213184595108,\n",
       "  0.07548674196004868,\n",
       "  0.07604670524597168,\n",
       "  0.07670648396015167,\n",
       "  0.07679983228445053,\n",
       "  0.0774531215429306,\n",
       "  0.07892364263534546,\n",
       "  0.07683789730072021,\n",
       "  0.07608775049448013,\n",
       "  0.07787950336933136,\n",
       "  0.07618759572505951,\n",
       "  0.07795070856809616,\n",
       "  0.07883761823177338,\n",
       "  0.07918648421764374,\n",
       "  0.07741650938987732,\n",
       "  0.07977347075939178,\n",
       "  0.08035396039485931],\n",
       " 'val_accuracy': [0.9125000238418579,\n",
       "  0.9283333420753479,\n",
       "  0.9383333325386047,\n",
       "  0.9441666603088379,\n",
       "  0.9484999775886536,\n",
       "  0.9523333311080933,\n",
       "  0.9588333368301392,\n",
       "  0.9611666798591614,\n",
       "  0.9649999737739563,\n",
       "  0.9636666774749756,\n",
       "  0.9678333401679993,\n",
       "  0.9700000286102295,\n",
       "  0.9711666703224182,\n",
       "  0.9721666574478149,\n",
       "  0.972000002861023,\n",
       "  0.9729999899864197,\n",
       "  0.9726666808128357,\n",
       "  0.9754999876022339,\n",
       "  0.9736666679382324,\n",
       "  0.9746666550636292,\n",
       "  0.9756666421890259,\n",
       "  0.9760000109672546,\n",
       "  0.9764999747276306,\n",
       "  0.9751666784286499,\n",
       "  0.9746666550636292,\n",
       "  0.9763333201408386,\n",
       "  0.9776666760444641,\n",
       "  0.9766666889190674,\n",
       "  0.9783333539962769,\n",
       "  0.9771666526794434,\n",
       "  0.9776666760444641,\n",
       "  0.9775000214576721,\n",
       "  0.9778333306312561,\n",
       "  0.9779999852180481,\n",
       "  0.9783333539962769,\n",
       "  0.9771666526794434,\n",
       "  0.9776666760444641,\n",
       "  0.9779999852180481,\n",
       "  0.9775000214576721,\n",
       "  0.9785000085830688,\n",
       "  0.9781666398048401,\n",
       "  0.9781666398048401,\n",
       "  0.9763333201408386,\n",
       "  0.9785000085830688,\n",
       "  0.9776666760444641,\n",
       "  0.9779999852180481,\n",
       "  0.9775000214576721,\n",
       "  0.9768333435058594,\n",
       "  0.9773333072662354,\n",
       "  0.9769999980926514,\n",
       "  0.9773333072662354,\n",
       "  0.9788333177566528,\n",
       "  0.9773333072662354,\n",
       "  0.9789999723434448,\n",
       "  0.9781666398048401,\n",
       "  0.9779999852180481,\n",
       "  0.9778333306312561,\n",
       "  0.9779999852180481,\n",
       "  0.9775000214576721,\n",
       "  0.9778333306312561]}"
      ]
     },
     "execution_count": 47,
     "metadata": {},
     "output_type": "execute_result"
    }
   ],
   "source": [
    "model_history.history"
   ]
  },
  {
   "cell_type": "code",
   "execution_count": 48,
   "metadata": {},
   "outputs": [
    {
     "data": {
      "image/png": "[encoded data removed]",
      "text/plain": [
       "<Figure size 576x360 with 1 Axes>"
      ]
     },
     "metadata": {
      "needs_background": "light"
     },
     "output_type": "display_data"
    }
   ],
   "source": [
    "import pandas as pd\n",
    "\n",
    "pd.DataFrame(model_history.history).plot(figsize=(8, 5))\n",
    "plt.grid(True)\n",
    "plt.gca().set_ylim(0, 1)\n",
    "plt.show()"
   ]
  },
  {
   "cell_type": "code",
   "execution_count": 49,
   "metadata": {},
   "outputs": [
    {
     "name": "stdout",
     "output_type": "stream",
     "text": [
      "313/313 [==============================] - 1s 2ms/step - loss: 0.0741 - accuracy: 0.9792\n"
     ]
    },
    {
     "data": {
      "text/plain": [
       "[0.074105404317379, 0.979200005531311]"
      ]
     },
     "execution_count": 49,
     "metadata": {},
     "output_type": "execute_result"
    }
   ],
   "source": [
    "model.evaluate(X_test, y_test)"
   ]
  },
  {
   "cell_type": "code",
   "execution_count": 50,
   "metadata": {},
   "outputs": [],
   "source": [
    "X_new = X_test[:3]"
   ]
  },
  {
   "cell_type": "code",
   "execution_count": 51,
   "metadata": {},
   "outputs": [
    {
     "name": "stderr",
     "output_type": "stream",
     "text": [
      "C:\\Users\\User\\anaconda3\\lib\\site-packages\\tensorflow\\python\\keras\\engine\\sequential.py:455: UserWarning: `model.predict_classes()` is deprecated and will be removed after 2021-01-01. Please use instead:* `np.argmax(model.predict(x), axis=-1)`,   if your model does multi-class classification   (e.g. if it uses a `softmax` last-layer activation).* `(model.predict(x) > 0.5).astype(\"int32\")`,   if your model does binary classification   (e.g. if it uses a `sigmoid` last-layer activation).\n",
      "  warnings.warn('`model.predict_classes()` is deprecated and '\n"
     ]
    },
    {
     "data": {
      "text/plain": [
       "array([7, 2, 1], dtype=int64)"
      ]
     },
     "execution_count": 51,
     "metadata": {},
     "output_type": "execute_result"
    }
   ],
   "source": [
    "y_pred = model.predict_classes(X_new)\n",
    "y_pred"
   ]
  },
  {
   "cell_type": "code",
   "execution_count": 53,
   "metadata": {},
   "outputs": [
    {
     "name": "stdout",
     "output_type": "stream",
     "text": [
      "AxesImage(54,36;334.8x217.44)\n"
     ]
    },
    {
     "data": {
      "image/png": "[encoded data removed]",
      "text/plain": [
       "<Figure size 432x288 with 1 Axes>"
      ]
     },
     "metadata": {
      "needs_background": "light"
     },
     "output_type": "display_data"
    }
   ],
   "source": [
    "print(plt.imshow(X_test[0]))"
   ]
  },
  {
   "cell_type": "code",
   "execution_count": 54,
   "metadata": {},
   "outputs": [
    {
     "name": "stdout",
     "output_type": "stream",
     "text": [
      "AxesImage(54,36;334.8x217.44)\n"
     ]
    },
    {
     "data": {
      "image/png": "[encoded data removed]",
      "text/plain": [
       "<Figure size 432x288 with 1 Axes>"
      ]
     },
     "metadata": {
      "needs_background": "light"
     },
     "output_type": "display_data"
    }
   ],
   "source": [
    "print(plt.imshow(X_test[1]))"
   ]
  },
  {
   "cell_type": "code",
   "execution_count": 55,
   "metadata": {},
   "outputs": [
    {
     "name": "stdout",
     "output_type": "stream",
     "text": [
      "AxesImage(54,36;334.8x217.44)\n"
     ]
    },
    {
     "data": {
      "image/png": "[encoded data removed]",
      "text/plain": [
       "<Figure size 432x288 with 1 Axes>"
      ]
     },
     "metadata": {
      "needs_background": "light"
     },
     "output_type": "display_data"
    }
   ],
   "source": [
    "print(plt.imshow(X_test[2]))"
   ]
  },
  {
   "cell_type": "code",
   "execution_count": null,
   "metadata": {},
   "outputs": [],
   "source": []
  },
  {
   "cell_type": "code",
   "execution_count": null,
   "metadata": {},
   "outputs": [],
   "source": []
  },
  {
   "cell_type": "code",
   "execution_count": null,
   "metadata": {},
   "outputs": [],
   "source": []
  },
  {
   "cell_type": "code",
   "execution_count": null,
   "metadata": {},
   "outputs": [],
   "source": []
  }
 ],
 "metadata": {
  "kernelspec": {
   "display_name": "Python 3",
   "language": "python",
   "name": "python3"
  },
  "language_info": {
   "codemirror_mode": {
    "name": "ipython",
    "version": 3
   },
   "file_extension": ".py",
   "mimetype": "text/x-python",
   "name": "python",
   "nbconvert_exporter": "python",
   "pygments_lexer": "ipython3",
   "version": "3.8.5"
  }
 },
 "nbformat": 4,
 "nbformat_minor": 4
}
