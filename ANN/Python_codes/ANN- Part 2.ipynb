{
 "cells": [
  {
   "cell_type": "code",
   "execution_count": 1,
   "metadata": {},
   "outputs": [],
   "source": [
    "import numpy as np\n",
    "import pandas as pd\n",
    "%matplotlib inline\n",
    "import matplotlib as mpl\n",
    "import matplotlib.pyplot as plt"
   ]
  },
  {
   "cell_type": "code",
   "execution_count": 2,
   "metadata": {},
   "outputs": [],
   "source": [
    "import tensorflow as tf\n",
    "from tensorflow import keras"
   ]
  },
  {
   "cell_type": "code",
   "execution_count": 3,
   "metadata": {},
   "outputs": [],
   "source": [
    "from sklearn.datasets import fetch_california_housing\n",
    "housing = fetch_california_housing()"
   ]
  },
  {
   "cell_type": "markdown",
   "metadata": {},
   "source": [
    "### Data Set Characteristics:\n",
    "\n",
    "##### Number of Instances:\n",
    " \t\n",
    "20640\n",
    "\n",
    "##### Number of Attributes:\n",
    " \t\n",
    "8 numeric, predictive attributes and the target\n",
    "\n",
    "##### Attribute Information:\n",
    " \t\n",
    "* MedInc median income in block\n",
    "* HouseAge median house age in block\n",
    "* AveRooms average number of rooms\n",
    "* AveBedrms average number of bedrooms\n",
    "* Population block population\n",
    "* AveOccup average house occupancy\n",
    "* Latitude house block latitude\n",
    "* Longitude house block longitude\n",
    "\n",
    "#### Target\n",
    "\n",
    "The target variable is the median house value in units of 100,000 for California districts.\n",
    "\n",
    "#### Documentation \n",
    "https://scikit-learn.org/stable/modules/generated/sklearn.datasets.fetch_california_housing.html#examples-using-sklearn-datasets-fetch-california-housing"
   ]
  },
  {
   "cell_type": "code",
   "execution_count": 4,
   "metadata": {},
   "outputs": [
    {
     "name": "stdout",
     "output_type": "stream",
     "text": [
      "['MedInc', 'HouseAge', 'AveRooms', 'AveBedrms', 'Population', 'AveOccup', 'Latitude', 'Longitude']\n"
     ]
    }
   ],
   "source": [
    "print(housing.feature_names)"
   ]
  },
  {
   "cell_type": "code",
   "execution_count": 5,
   "metadata": {},
   "outputs": [],
   "source": [
    "from sklearn.model_selection import train_test_split\n",
    "X_train_full, X_test, y_train_full, y_test = train_test_split(housing.data, housing.target, random_state=42)\n",
    "X_train, X_valid, y_train, y_valid = train_test_split(X_train_full, y_train_full, random_state=42)"
   ]
  },
  {
   "cell_type": "code",
   "execution_count": 6,
   "metadata": {},
   "outputs": [],
   "source": [
    "from sklearn.preprocessing import StandardScaler\n",
    "scaler = StandardScaler()\n",
    "X_train = scaler.fit_transform(X_train)\n",
    "X_valid = scaler.transform(X_valid)\n",
    "X_test = scaler.transform(X_test)"
   ]
  },
  {
   "cell_type": "code",
   "execution_count": 7,
   "metadata": {},
   "outputs": [],
   "source": [
    "np.random.seed(42)\n",
    "tf.random.set_seed(42)"
   ]
  },
  {
   "cell_type": "code",
   "execution_count": 8,
   "metadata": {},
   "outputs": [
    {
     "data": {
      "text/plain": [
       "(11610, 8)"
      ]
     },
     "execution_count": 8,
     "metadata": {},
     "output_type": "execute_result"
    }
   ],
   "source": [
    "X_train.shape"
   ]
  },
  {
   "cell_type": "markdown",
   "metadata": {},
   "source": [
    "![](Seq_api.png \"Title\")"
   ]
  },
  {
   "cell_type": "code",
   "execution_count": 9,
   "metadata": {},
   "outputs": [],
   "source": [
    "model = keras.models.Sequential([\n",
    "    keras.layers.Dense(30, activation=\"relu\", input_shape=[8]),\n",
    "    keras.layers.Dense(30, activation=\"relu\"),\n",
    "    keras.layers.Dense(1)\n",
    "])\n",
    "# keras.layers.Dense(30, activation=\"relu\", input_shape=X_train.shape[1:])"
   ]
  },
  {
   "cell_type": "code",
   "execution_count": 10,
   "metadata": {},
   "outputs": [
    {
     "name": "stdout",
     "output_type": "stream",
     "text": [
      "Model: \"sequential\"\n",
      "_________________________________________________________________\n",
      "Layer (type)                 Output Shape              Param #   \n",
      "=================================================================\n",
      "dense (Dense)                (None, 30)                270       \n",
      "_________________________________________________________________\n",
      "dense_1 (Dense)              (None, 30)                930       \n",
      "_________________________________________________________________\n",
      "dense_2 (Dense)              (None, 1)                 31        \n",
      "=================================================================\n",
      "Total params: 1,231\n",
      "Trainable params: 1,231\n",
      "Non-trainable params: 0\n",
      "_________________________________________________________________\n"
     ]
    }
   ],
   "source": [
    "model.summary()"
   ]
  },
  {
   "cell_type": "code",
   "execution_count": 11,
   "metadata": {},
   "outputs": [
    {
     "name": "stderr",
     "output_type": "stream",
     "text": [
      "C:\\Users\\User\\anaconda3\\lib\\site-packages\\tensorflow\\python\\keras\\optimizer_v2\\optimizer_v2.py:374: UserWarning: The `lr` argument is deprecated, use `learning_rate` instead.\n",
      "  warnings.warn(\n"
     ]
    }
   ],
   "source": [
    "model.compile(loss=\"mean_squared_error\", \n",
    "              optimizer=keras.optimizers.SGD(lr=1e-3), \n",
    "              metrics=['mae'])"
   ]
  },
  {
   "cell_type": "code",
   "execution_count": 12,
   "metadata": {},
   "outputs": [
    {
     "name": "stdout",
     "output_type": "stream",
     "text": [
      "Epoch 1/20\n",
      "363/363 [==============================] - 2s 2ms/step - loss: 1.8866 - mae: 0.9900 - val_loss: 0.7126 - val_mae: 0.6368\n",
      "Epoch 2/20\n",
      "363/363 [==============================] - 1s 1ms/step - loss: 0.6577 - mae: 0.6042 - val_loss: 0.6880 - val_mae: 0.5704\n",
      "Epoch 3/20\n",
      "363/363 [==============================] - 1s 2ms/step - loss: 0.5934 - mae: 0.5618 - val_loss: 0.5803 - val_mae: 0.5352\n",
      "Epoch 4/20\n",
      "363/363 [==============================] - 1s 2ms/step - loss: 0.5557 - mae: 0.5398 - val_loss: 0.5166 - val_mae: 0.5207\n",
      "Epoch 5/20\n",
      "363/363 [==============================] - 1s 2ms/step - loss: 0.5272 - mae: 0.5237 - val_loss: 0.4895 - val_mae: 0.5022\n",
      "Epoch 6/20\n",
      "363/363 [==============================] - 1s 2ms/step - loss: 0.5033 - mae: 0.5113 - val_loss: 0.4951 - val_mae: 0.4934\n",
      "Epoch 7/20\n",
      "363/363 [==============================] - 1s 1ms/step - loss: 0.4854 - mae: 0.5010 - val_loss: 0.4861 - val_mae: 0.4838\n",
      "Epoch 8/20\n",
      "363/363 [==============================] - 1s 2ms/step - loss: 0.4709 - mae: 0.4924 - val_loss: 0.4554 - val_mae: 0.4753\n",
      "Epoch 9/20\n",
      "363/363 [==============================] - 1s 2ms/step - loss: 0.4578 - mae: 0.4857 - val_loss: 0.4413 - val_mae: 0.4671\n",
      "Epoch 10/20\n",
      "363/363 [==============================] - 1s 2ms/step - loss: 0.4474 - mae: 0.4797 - val_loss: 0.4379 - val_mae: 0.4623\n",
      "Epoch 11/20\n",
      "363/363 [==============================] - 1s 2ms/step - loss: 0.4393 - mae: 0.4744 - val_loss: 0.4396 - val_mae: 0.4638\n",
      "Epoch 12/20\n",
      "363/363 [==============================] - 1s 2ms/step - loss: 0.4318 - mae: 0.4703 - val_loss: 0.4507 - val_mae: 0.4573\n",
      "Epoch 13/20\n",
      "363/363 [==============================] - 1s 2ms/step - loss: 0.4261 - mae: 0.4674 - val_loss: 0.3997 - val_mae: 0.4517\n",
      "Epoch 14/20\n",
      "363/363 [==============================] - 1s 1ms/step - loss: 0.4202 - mae: 0.4636 - val_loss: 0.3956 - val_mae: 0.4497\n",
      "Epoch 15/20\n",
      "363/363 [==============================] - 1s 2ms/step - loss: 0.4155 - mae: 0.4613 - val_loss: 0.3916 - val_mae: 0.4464\n",
      "Epoch 16/20\n",
      "363/363 [==============================] - ETA: 0s - loss: 0.4162 - mae: 0.459 - 1s 1ms/step - loss: 0.4112 - mae: 0.4591 - val_loss: 0.3937 - val_mae: 0.4445\n",
      "Epoch 17/20\n",
      "363/363 [==============================] - 1s 2ms/step - loss: 0.4077 - mae: 0.4569 - val_loss: 0.3809 - val_mae: 0.4390\n",
      "Epoch 18/20\n",
      "363/363 [==============================] - 1s 1ms/step - loss: 0.4040 - mae: 0.4545 - val_loss: 0.3793 - val_mae: 0.4368\n",
      "Epoch 19/20\n",
      "363/363 [==============================] - 1s 2ms/step - loss: 0.4004 - mae: 0.4521 - val_loss: 0.3850 - val_mae: 0.4369\n",
      "Epoch 20/20\n",
      "363/363 [==============================] - 1s 2ms/step - loss: 0.3980 - mae: 0.4508 - val_loss: 0.3809 - val_mae: 0.4368\n"
     ]
    }
   ],
   "source": [
    "model_history = model.fit(X_train, y_train, epochs=20, validation_data=(X_valid, y_valid))"
   ]
  },
  {
   "cell_type": "code",
   "execution_count": 13,
   "metadata": {},
   "outputs": [
    {
     "name": "stdout",
     "output_type": "stream",
     "text": [
      "162/162 [==============================] - 0s 1ms/step - loss: 0.3942 - mae: 0.4502\n"
     ]
    }
   ],
   "source": [
    "mae_test = model.evaluate(X_test, y_test)\n"
   ]
  },
  {
   "cell_type": "code",
   "execution_count": 14,
   "metadata": {},
   "outputs": [
    {
     "data": {
      "text/plain": [
       "{'loss': [1.8866397142410278,\n",
       "  0.6577126979827881,\n",
       "  0.593418538570404,\n",
       "  0.5557191371917725,\n",
       "  0.5271905064582825,\n",
       "  0.5032975673675537,\n",
       "  0.48535558581352234,\n",
       "  0.47091811895370483,\n",
       "  0.45779937505722046,\n",
       "  0.4474469721317291,\n",
       "  0.4393136501312256,\n",
       "  0.43176087737083435,\n",
       "  0.42605164647102356,\n",
       "  0.42017653584480286,\n",
       "  0.41549986600875854,\n",
       "  0.41116511821746826,\n",
       "  0.4077068567276001,\n",
       "  0.40395283699035645,\n",
       "  0.4004494547843933,\n",
       "  0.39796027541160583],\n",
       " 'mae': [0.9900256991386414,\n",
       "  0.6041509509086609,\n",
       "  0.5618005990982056,\n",
       "  0.5398454070091248,\n",
       "  0.5237293243408203,\n",
       "  0.5112562775611877,\n",
       "  0.5010154247283936,\n",
       "  0.492448091506958,\n",
       "  0.4857262969017029,\n",
       "  0.4797375202178955,\n",
       "  0.4744163453578949,\n",
       "  0.4703480303287506,\n",
       "  0.46740883588790894,\n",
       "  0.4636021554470062,\n",
       "  0.461266428232193,\n",
       "  0.4591343402862549,\n",
       "  0.4568699896335602,\n",
       "  0.4545365273952484,\n",
       "  0.4521064758300781,\n",
       "  0.45083147287368774],\n",
       " 'val_loss': [0.7126054763793945,\n",
       "  0.6880088448524475,\n",
       "  0.5803285837173462,\n",
       "  0.5166085362434387,\n",
       "  0.48950764536857605,\n",
       "  0.49507930874824524,\n",
       "  0.4861254394054413,\n",
       "  0.4553801119327545,\n",
       "  0.4413370192050934,\n",
       "  0.43786391615867615,\n",
       "  0.43964439630508423,\n",
       "  0.45066899061203003,\n",
       "  0.39972344040870667,\n",
       "  0.39558932185173035,\n",
       "  0.3915725648403168,\n",
       "  0.3936830461025238,\n",
       "  0.38094857335090637,\n",
       "  0.379347562789917,\n",
       "  0.3850175738334656,\n",
       "  0.380946546792984],\n",
       " 'val_mae': [0.6368111968040466,\n",
       "  0.5703656673431396,\n",
       "  0.5351505279541016,\n",
       "  0.5206613540649414,\n",
       "  0.5022227168083191,\n",
       "  0.4933752417564392,\n",
       "  0.4838489592075348,\n",
       "  0.4752773940563202,\n",
       "  0.46705934405326843,\n",
       "  0.46234604716300964,\n",
       "  0.4637792706489563,\n",
       "  0.4572650194168091,\n",
       "  0.45166537165641785,\n",
       "  0.4496610760688782,\n",
       "  0.446370005607605,\n",
       "  0.4444962739944458,\n",
       "  0.43897414207458496,\n",
       "  0.43681108951568604,\n",
       "  0.4369049370288849,\n",
       "  0.43676161766052246]}"
      ]
     },
     "execution_count": 14,
     "metadata": {},
     "output_type": "execute_result"
    }
   ],
   "source": [
    "model_history.history"
   ]
  },
  {
   "cell_type": "code",
   "execution_count": 15,
   "metadata": {},
   "outputs": [
    {
     "data": {
      "image/png": "[encoded data removed]",
      "text/plain": [
       "<Figure size 576x360 with 1 Axes>"
      ]
     },
     "metadata": {
      "needs_background": "light"
     },
     "output_type": "display_data"
    }
   ],
   "source": [
    "pd.DataFrame(model_history.history).plot(figsize=(8, 5))\n",
    "plt.grid(True)\n",
    "plt.gca().set_ylim(0, 1)\n",
    "\n",
    "plt.show()"
   ]
  },
  {
   "cell_type": "code",
   "execution_count": 16,
   "metadata": {},
   "outputs": [],
   "source": [
    "X_new = X_test[:3]"
   ]
  },
  {
   "cell_type": "code",
   "execution_count": 17,
   "metadata": {},
   "outputs": [
    {
     "name": "stdout",
     "output_type": "stream",
     "text": [
      "[[0.53287673]\n",
      " [1.8915396 ]\n",
      " [3.4040868 ]]\n",
      "[0.477   0.458   5.00001]\n"
     ]
    }
   ],
   "source": [
    "y_pred = model.predict(X_new)\n",
    "print (y_pred)\n",
    "print(y_test[:3])"
   ]
  },
  {
   "cell_type": "code",
   "execution_count": 18,
   "metadata": {},
   "outputs": [],
   "source": [
    "del model"
   ]
  },
  {
   "cell_type": "code",
   "execution_count": null,
   "metadata": {},
   "outputs": [],
   "source": []
  },
  {
   "cell_type": "code",
   "execution_count": null,
   "metadata": {},
   "outputs": [],
   "source": []
  },
  {
   "cell_type": "code",
   "execution_count": null,
   "metadata": {},
   "outputs": [],
   "source": []
  },
  {
   "cell_type": "code",
   "execution_count": null,
   "metadata": {},
   "outputs": [],
   "source": []
  },
  {
   "cell_type": "code",
   "execution_count": null,
   "metadata": {},
   "outputs": [],
   "source": []
  },
  {
   "cell_type": "code",
   "execution_count": null,
   "metadata": {},
   "outputs": [],
   "source": []
  },
  {
   "cell_type": "code",
   "execution_count": null,
   "metadata": {},
   "outputs": [],
   "source": []
  },
  {
   "cell_type": "code",
   "execution_count": null,
   "metadata": {},
   "outputs": [],
   "source": []
  },
  {
   "cell_type": "code",
   "execution_count": 20,
   "metadata": {},
   "outputs": [],
   "source": [
    "keras.backend.clear_session()"
   ]
  },
  {
   "cell_type": "markdown",
   "metadata": {},
   "source": [
    "# Functional API"
   ]
  },
  {
   "cell_type": "markdown",
   "metadata": {},
   "source": [
    "Not all neural network models are simply sequential. Some may have complex topologies. Some may have multiple inputs and/or multiple outputs. For example, a Wide & Deep neural network (see [paper](https://ai.google/research/pubs/pub45413)) connects all or part of the inputs directly to the output layer.\n",
    "\n",
    "![](Functional.JPG \"Title\")"
   ]
  },
  {
   "cell_type": "code",
   "execution_count": 21,
   "metadata": {},
   "outputs": [],
   "source": [
    "input_ = keras.layers.Input(shape=X_train.shape[1:])\n",
    "hidden1 = keras.layers.Dense(30, activation=\"relu\")(input_)\n",
    "hidden2 = keras.layers.Dense(30, activation=\"relu\")(hidden1)\n",
    "concat = keras.layers.concatenate([input_, hidden2])\n",
    "output = keras.layers.Dense(1)(concat)\n",
    "model = keras.models.Model(inputs=[input_], outputs=[output])"
   ]
  },
  {
   "cell_type": "code",
   "execution_count": 22,
   "metadata": {},
   "outputs": [
    {
     "name": "stdout",
     "output_type": "stream",
     "text": [
      "Model: \"model\"\n",
      "__________________________________________________________________________________________________\n",
      "Layer (type)                    Output Shape         Param #     Connected to                     \n",
      "==================================================================================================\n",
      "input_1 (InputLayer)            [(None, 8)]          0                                            \n",
      "__________________________________________________________________________________________________\n",
      "dense (Dense)                   (None, 30)           270         input_1[0][0]                    \n",
      "__________________________________________________________________________________________________\n",
      "dense_1 (Dense)                 (None, 30)           930         dense[0][0]                      \n",
      "__________________________________________________________________________________________________\n",
      "concatenate (Concatenate)       (None, 38)           0           input_1[0][0]                    \n",
      "                                                                 dense_1[0][0]                    \n",
      "__________________________________________________________________________________________________\n",
      "dense_2 (Dense)                 (None, 1)            39          concatenate[0][0]                \n",
      "==================================================================================================\n",
      "Total params: 1,239\n",
      "Trainable params: 1,239\n",
      "Non-trainable params: 0\n",
      "__________________________________________________________________________________________________\n"
     ]
    }
   ],
   "source": [
    "model.summary()"
   ]
  },
  {
   "cell_type": "code",
   "execution_count": 23,
   "metadata": {},
   "outputs": [
    {
     "name": "stderr",
     "output_type": "stream",
     "text": [
      "C:\\Users\\User\\anaconda3\\lib\\site-packages\\tensorflow\\python\\keras\\optimizer_v2\\optimizer_v2.py:374: UserWarning: The `lr` argument is deprecated, use `learning_rate` instead.\n",
      "  warnings.warn(\n"
     ]
    }
   ],
   "source": [
    "model.compile(loss=\"mean_squared_error\", \n",
    "              optimizer=keras.optimizers.SGD(lr=1e-3), \n",
    "              metrics=['mae'])"
   ]
  },
  {
   "cell_type": "code",
   "execution_count": 24,
   "metadata": {},
   "outputs": [
    {
     "name": "stdout",
     "output_type": "stream",
     "text": [
      "Epoch 1/80\n",
      "363/363 [==============================] - 2s 3ms/step - loss: 1.6920 - mae: 0.8893 - val_loss: 0.8798 - val_mae: 0.6026\n",
      "Epoch 2/80\n",
      "363/363 [==============================] - 1s 2ms/step - loss: 0.6836 - mae: 0.5994 - val_loss: 0.6420 - val_mae: 0.5764\n",
      "Epoch 3/80\n",
      "363/363 [==============================] - 1s 2ms/step - loss: 0.6265 - mae: 0.5775 - val_loss: 0.5891 - val_mae: 0.5503\n",
      "Epoch 4/80\n",
      "363/363 [==============================] - 1s 2ms/step - loss: 0.5877 - mae: 0.5581 - val_loss: 0.5455 - val_mae: 0.5343\n",
      "Epoch 5/80\n",
      "363/363 [==============================] - 1s 2ms/step - loss: 0.5566 - mae: 0.5421 - val_loss: 0.5409 - val_mae: 0.5202\n",
      "Epoch 6/80\n",
      "363/363 [==============================] - 1s 2ms/step - loss: 0.5312 - mae: 0.5298 - val_loss: 0.4903 - val_mae: 0.5046\n",
      "Epoch 7/80\n",
      "363/363 [==============================] - 1s 2ms/step - loss: 0.5108 - mae: 0.5186 - val_loss: 0.4728 - val_mae: 0.4962\n",
      "Epoch 8/80\n",
      "363/363 [==============================] - 1s 2ms/step - loss: 0.4952 - mae: 0.5096 - val_loss: 0.5017 - val_mae: 0.4921\n",
      "Epoch 9/80\n",
      "363/363 [==============================] - 1s 2ms/step - loss: 0.4802 - mae: 0.5025 - val_loss: 0.4511 - val_mae: 0.4811\n",
      "Epoch 10/80\n",
      "363/363 [==============================] - 1s 2ms/step - loss: 0.4685 - mae: 0.4959 - val_loss: 0.4330 - val_mae: 0.4735\n",
      "Epoch 11/80\n",
      "363/363 [==============================] - 1s 2ms/step - loss: 0.4590 - mae: 0.4897 - val_loss: 0.4991 - val_mae: 0.4778\n",
      "Epoch 12/80\n",
      "363/363 [==============================] - 1s 2ms/step - loss: 0.4502 - mae: 0.4851 - val_loss: 0.4179 - val_mae: 0.4658\n",
      "Epoch 13/80\n",
      "363/363 [==============================] - 1s 2ms/step - loss: 0.4433 - mae: 0.4811 - val_loss: 0.4409 - val_mae: 0.4658\n",
      "Epoch 14/80\n",
      "363/363 [==============================] - 1s 2ms/step - loss: 0.4363 - mae: 0.4766 - val_loss: 0.4239 - val_mae: 0.4621\n",
      "Epoch 15/80\n",
      "363/363 [==============================] - 1s 2ms/step - loss: 0.4306 - mae: 0.4736 - val_loss: 0.4480 - val_mae: 0.4601\n",
      "Epoch 16/80\n",
      "363/363 [==============================] - 1s 2ms/step - loss: 0.4253 - mae: 0.4703 - val_loss: 0.4113 - val_mae: 0.4550\n",
      "Epoch 17/80\n",
      "363/363 [==============================] - 1s 2ms/step - loss: 0.4213 - mae: 0.4676 - val_loss: 0.4454 - val_mae: 0.4538\n",
      "Epoch 18/80\n",
      "363/363 [==============================] - 1s 2ms/step - loss: 0.4168 - mae: 0.4650 - val_loss: 0.4537 - val_mae: 0.4518\n",
      "Epoch 19/80\n",
      "363/363 [==============================] - 1s 2ms/step - loss: 0.4126 - mae: 0.4616 - val_loss: 0.4084 - val_mae: 0.4477\n",
      "Epoch 20/80\n",
      "363/363 [==============================] - 1s 2ms/step - loss: 0.4096 - mae: 0.4600 - val_loss: 0.4581 - val_mae: 0.4505\n",
      "Epoch 21/80\n",
      "363/363 [==============================] - 1s 2ms/step - loss: 0.4060 - mae: 0.4573 - val_loss: 0.4267 - val_mae: 0.4487\n",
      "Epoch 22/80\n",
      "363/363 [==============================] - 1s 2ms/step - loss: 0.4029 - mae: 0.4559 - val_loss: 0.4677 - val_mae: 0.4485\n",
      "Epoch 23/80\n",
      "363/363 [==============================] - 1s 2ms/step - loss: 0.4000 - mae: 0.4542 - val_loss: 0.3940 - val_mae: 0.4390\n",
      "Epoch 24/80\n",
      "363/363 [==============================] - 1s 2ms/step - loss: 0.3972 - mae: 0.4515 - val_loss: 0.4277 - val_mae: 0.4410\n",
      "Epoch 25/80\n",
      "363/363 [==============================] - 1s 2ms/step - loss: 0.3946 - mae: 0.4502 - val_loss: 0.4414 - val_mae: 0.4412\n",
      "Epoch 26/80\n",
      "363/363 [==============================] - 1s 2ms/step - loss: 0.3925 - mae: 0.4488 - val_loss: 0.4365 - val_mae: 0.4393\n",
      "Epoch 27/80\n",
      "363/363 [==============================] - 1s 2ms/step - loss: 0.3905 - mae: 0.4472 - val_loss: 0.3854 - val_mae: 0.4354\n",
      "Epoch 28/80\n",
      "363/363 [==============================] - 1s 2ms/step - loss: 0.3885 - mae: 0.4455 - val_loss: 0.4330 - val_mae: 0.4401\n",
      "Epoch 29/80\n",
      "363/363 [==============================] - 1s 2ms/step - loss: 0.3867 - mae: 0.4448 - val_loss: 0.4135 - val_mae: 0.4373\n",
      "Epoch 30/80\n",
      "363/363 [==============================] - 1s 2ms/step - loss: 0.3848 - mae: 0.4435 - val_loss: 0.4344 - val_mae: 0.4358\n",
      "Epoch 31/80\n",
      "363/363 [==============================] - 1s 2ms/step - loss: 0.3830 - mae: 0.4420 - val_loss: 0.4016 - val_mae: 0.4332\n",
      "Epoch 32/80\n",
      "363/363 [==============================] - 1s 2ms/step - loss: 0.3816 - mae: 0.4410 - val_loss: 0.4459 - val_mae: 0.4380\n",
      "Epoch 33/80\n",
      "363/363 [==============================] - 1s 2ms/step - loss: 0.3805 - mae: 0.4408 - val_loss: 0.3866 - val_mae: 0.4319\n",
      "Epoch 34/80\n",
      "363/363 [==============================] - 1s 2ms/step - loss: 0.3787 - mae: 0.4393 - val_loss: 0.3923 - val_mae: 0.4323\n",
      "Epoch 35/80\n",
      "363/363 [==============================] - 1s 2ms/step - loss: 0.3776 - mae: 0.4383 - val_loss: 0.4512 - val_mae: 0.4358\n",
      "Epoch 36/80\n",
      "363/363 [==============================] - 1s 2ms/step - loss: 0.3763 - mae: 0.4379 - val_loss: 0.3639 - val_mae: 0.4268\n",
      "Epoch 37/80\n",
      "363/363 [==============================] - 1s 2ms/step - loss: 0.3751 - mae: 0.4365 - val_loss: 0.4068 - val_mae: 0.4309\n",
      "Epoch 38/80\n",
      "363/363 [==============================] - 1s 2ms/step - loss: 0.3741 - mae: 0.4362 - val_loss: 0.3776 - val_mae: 0.4276\n",
      "Epoch 39/80\n",
      "363/363 [==============================] - 1s 2ms/step - loss: 0.3728 - mae: 0.4352 - val_loss: 0.3774 - val_mae: 0.4266\n",
      "Epoch 40/80\n",
      "363/363 [==============================] - 1s 2ms/step - loss: 0.3716 - mae: 0.4345 - val_loss: 0.3940 - val_mae: 0.4262\n",
      "Epoch 41/80\n",
      "363/363 [==============================] - 1s 2ms/step - loss: 0.3711 - mae: 0.4334 - val_loss: 0.4017 - val_mae: 0.4280\n",
      "Epoch 42/80\n",
      "363/363 [==============================] - 1s 2ms/step - loss: 0.3703 - mae: 0.4335 - val_loss: 0.4094 - val_mae: 0.4276\n",
      "Epoch 43/80\n",
      "363/363 [==============================] - 1s 2ms/step - loss: 0.3690 - mae: 0.4321 - val_loss: 0.4116 - val_mae: 0.4270\n",
      "Epoch 44/80\n",
      "363/363 [==============================] - 1s 2ms/step - loss: 0.3680 - mae: 0.4314 - val_loss: 0.4304 - val_mae: 0.4296\n",
      "Epoch 45/80\n",
      "363/363 [==============================] - 1s 2ms/step - loss: 0.3677 - mae: 0.4317 - val_loss: 0.3712 - val_mae: 0.4226\n",
      "Epoch 46/80\n",
      "363/363 [==============================] - 1s 2ms/step - loss: 0.3664 - mae: 0.4298 - val_loss: 0.3859 - val_mae: 0.4252\n",
      "Epoch 47/80\n",
      "363/363 [==============================] - 1s 2ms/step - loss: 0.3657 - mae: 0.4303 - val_loss: 0.3766 - val_mae: 0.4222\n",
      "Epoch 48/80\n",
      "363/363 [==============================] - 1s 2ms/step - loss: 0.3648 - mae: 0.4289 - val_loss: 0.4172 - val_mae: 0.4262\n",
      "Epoch 49/80\n",
      "363/363 [==============================] - 1s 2ms/step - loss: 0.3645 - mae: 0.4290 - val_loss: 0.3608 - val_mae: 0.4219\n",
      "Epoch 50/80\n",
      "363/363 [==============================] - 1s 2ms/step - loss: 0.3633 - mae: 0.4282 - val_loss: 0.3503 - val_mae: 0.4188\n",
      "Epoch 51/80\n",
      "363/363 [==============================] - 1s 2ms/step - loss: 0.3625 - mae: 0.4271 - val_loss: 0.3998 - val_mae: 0.4252\n",
      "Epoch 52/80\n",
      "363/363 [==============================] - 1s 2ms/step - loss: 0.3619 - mae: 0.4272 - val_loss: 0.3504 - val_mae: 0.4176\n",
      "Epoch 53/80\n",
      "363/363 [==============================] - 1s 2ms/step - loss: 0.3611 - mae: 0.4263 - val_loss: 0.4264 - val_mae: 0.4234\n",
      "Epoch 54/80\n",
      "363/363 [==============================] - 1s 2ms/step - loss: 0.3606 - mae: 0.4259 - val_loss: 0.3472 - val_mae: 0.4186\n",
      "Epoch 55/80\n",
      "363/363 [==============================] - 1s 2ms/step - loss: 0.3598 - mae: 0.4258 - val_loss: 0.3643 - val_mae: 0.4182\n",
      "Epoch 56/80\n",
      "363/363 [==============================] - 1s 2ms/step - loss: 0.3590 - mae: 0.4248 - val_loss: 0.3638 - val_mae: 0.4185\n",
      "Epoch 57/80\n",
      "363/363 [==============================] - 1s 2ms/step - loss: 0.3584 - mae: 0.4246 - val_loss: 0.3478 - val_mae: 0.4157\n",
      "Epoch 58/80\n",
      "363/363 [==============================] - 1s 2ms/step - loss: 0.3576 - mae: 0.4236 - val_loss: 0.4113 - val_mae: 0.4197\n",
      "Epoch 59/80\n",
      "363/363 [==============================] - 1s 2ms/step - loss: 0.3575 - mae: 0.4237 - val_loss: 0.3814 - val_mae: 0.4191\n",
      "Epoch 60/80\n",
      "363/363 [==============================] - 1s 2ms/step - loss: 0.3567 - mae: 0.4231 - val_loss: 0.3610 - val_mae: 0.4184\n",
      "Epoch 61/80\n",
      "363/363 [==============================] - 1s 2ms/step - loss: 0.3557 - mae: 0.4223 - val_loss: 0.3885 - val_mae: 0.4229\n",
      "Epoch 62/80\n"
     ]
    },
    {
     "name": "stdout",
     "output_type": "stream",
     "text": [
      "363/363 [==============================] - 1s 2ms/step - loss: 0.3556 - mae: 0.4225 - val_loss: 0.3695 - val_mae: 0.4167\n",
      "Epoch 63/80\n",
      "363/363 [==============================] - 1s 2ms/step - loss: 0.3543 - mae: 0.4214 - val_loss: 0.3630 - val_mae: 0.4180\n",
      "Epoch 64/80\n",
      "363/363 [==============================] - 1s 2ms/step - loss: 0.3544 - mae: 0.4217 - val_loss: 0.3433 - val_mae: 0.4145\n",
      "Epoch 65/80\n",
      "363/363 [==============================] - 1s 2ms/step - loss: 0.3537 - mae: 0.4213 - val_loss: 0.3548 - val_mae: 0.4143\n",
      "Epoch 66/80\n",
      "363/363 [==============================] - 1s 2ms/step - loss: 0.3530 - mae: 0.4206 - val_loss: 0.3570 - val_mae: 0.4142\n",
      "Epoch 67/80\n",
      "363/363 [==============================] - 1s 2ms/step - loss: 0.3524 - mae: 0.4202 - val_loss: 0.3722 - val_mae: 0.4162\n",
      "Epoch 68/80\n",
      "363/363 [==============================] - 1s 2ms/step - loss: 0.3520 - mae: 0.4198 - val_loss: 0.3612 - val_mae: 0.4137\n",
      "Epoch 69/80\n",
      "363/363 [==============================] - 1s 2ms/step - loss: 0.3515 - mae: 0.4189 - val_loss: 0.3507 - val_mae: 0.4146\n",
      "Epoch 70/80\n",
      "363/363 [==============================] - 1s 2ms/step - loss: 0.3506 - mae: 0.4192 - val_loss: 0.3817 - val_mae: 0.4138\n",
      "Epoch 71/80\n",
      "363/363 [==============================] - 1s 2ms/step - loss: 0.3507 - mae: 0.4188 - val_loss: 0.3771 - val_mae: 0.4150\n",
      "Epoch 72/80\n",
      "363/363 [==============================] - 1s 2ms/step - loss: 0.3500 - mae: 0.4185 - val_loss: 0.3627 - val_mae: 0.4125\n",
      "Epoch 73/80\n",
      "363/363 [==============================] - 1s 2ms/step - loss: 0.3490 - mae: 0.4179 - val_loss: 0.3357 - val_mae: 0.4089\n",
      "Epoch 74/80\n",
      "363/363 [==============================] - 1s 2ms/step - loss: 0.3492 - mae: 0.4176 - val_loss: 0.3910 - val_mae: 0.4142\n",
      "Epoch 75/80\n",
      "363/363 [==============================] - 1s 2ms/step - loss: 0.3484 - mae: 0.4168 - val_loss: 0.3896 - val_mae: 0.4159\n",
      "Epoch 76/80\n",
      "363/363 [==============================] - 1s 2ms/step - loss: 0.3481 - mae: 0.4171 - val_loss: 0.3492 - val_mae: 0.4099\n",
      "Epoch 77/80\n",
      "363/363 [==============================] - 1s 2ms/step - loss: 0.3472 - mae: 0.4159 - val_loss: 0.3888 - val_mae: 0.4151\n",
      "Epoch 78/80\n",
      "363/363 [==============================] - 1s 2ms/step - loss: 0.3469 - mae: 0.4166 - val_loss: 0.3658 - val_mae: 0.4123\n",
      "Epoch 79/80\n",
      "363/363 [==============================] - 1s 2ms/step - loss: 0.3463 - mae: 0.4157 - val_loss: 0.3637 - val_mae: 0.4115\n",
      "Epoch 80/80\n",
      "363/363 [==============================] - 1s 2ms/step - loss: 0.3458 - mae: 0.4156 - val_loss: 0.3646 - val_mae: 0.4104\n"
     ]
    }
   ],
   "source": [
    "model_history = model.fit(X_train, y_train, epochs=80, validation_data=(X_valid, y_valid))"
   ]
  },
  {
   "cell_type": "code",
   "execution_count": 25,
   "metadata": {},
   "outputs": [
    {
     "name": "stdout",
     "output_type": "stream",
     "text": [
      "162/162 [==============================] - 0s 1ms/step - loss: 0.3453 - mae: 0.4147\n"
     ]
    }
   ],
   "source": [
    "mae_test = model.evaluate(X_test, y_test)\n"
   ]
  },
  {
   "cell_type": "code",
   "execution_count": 26,
   "metadata": {},
   "outputs": [
    {
     "data": {
      "text/plain": [
       "{'loss': [1.6920058727264404,\n",
       "  0.6836402416229248,\n",
       "  0.626488208770752,\n",
       "  0.5877465605735779,\n",
       "  0.5565561056137085,\n",
       "  0.5311980247497559,\n",
       "  0.5107864141464233,\n",
       "  0.4951668083667755,\n",
       "  0.4802228510379791,\n",
       "  0.4684668779373169,\n",
       "  0.45896390080451965,\n",
       "  0.45022013783454895,\n",
       "  0.4432655870914459,\n",
       "  0.4363251030445099,\n",
       "  0.4306240975856781,\n",
       "  0.42534440755844116,\n",
       "  0.4212935268878937,\n",
       "  0.41681814193725586,\n",
       "  0.4126456081867218,\n",
       "  0.4095860719680786,\n",
       "  0.40596330165863037,\n",
       "  0.4029441177845001,\n",
       "  0.4000454246997833,\n",
       "  0.3971883952617645,\n",
       "  0.3946213722229004,\n",
       "  0.39249086380004883,\n",
       "  0.3904934525489807,\n",
       "  0.38845276832580566,\n",
       "  0.3867104947566986,\n",
       "  0.38484394550323486,\n",
       "  0.38295263051986694,\n",
       "  0.3815838396549225,\n",
       "  0.38052698969841003,\n",
       "  0.3787004351615906,\n",
       "  0.3775610029697418,\n",
       "  0.3762996792793274,\n",
       "  0.3750821352005005,\n",
       "  0.3740888237953186,\n",
       "  0.37281912565231323,\n",
       "  0.37164339423179626,\n",
       "  0.37105101346969604,\n",
       "  0.37027257680892944,\n",
       "  0.36904579401016235,\n",
       "  0.3680413067340851,\n",
       "  0.36773180961608887,\n",
       "  0.3663593530654907,\n",
       "  0.3656557500362396,\n",
       "  0.36475399136543274,\n",
       "  0.36454951763153076,\n",
       "  0.36326438188552856,\n",
       "  0.36249008774757385,\n",
       "  0.3619101643562317,\n",
       "  0.36111924052238464,\n",
       "  0.3606095016002655,\n",
       "  0.359813392162323,\n",
       "  0.3589715361595154,\n",
       "  0.35839781165122986,\n",
       "  0.35761627554893494,\n",
       "  0.3574795722961426,\n",
       "  0.3566703200340271,\n",
       "  0.35566195845603943,\n",
       "  0.355612576007843,\n",
       "  0.354291707277298,\n",
       "  0.3543755114078522,\n",
       "  0.35372301936149597,\n",
       "  0.35298994183540344,\n",
       "  0.35240495204925537,\n",
       "  0.3519921600818634,\n",
       "  0.3515494763851166,\n",
       "  0.35064268112182617,\n",
       "  0.3507109582424164,\n",
       "  0.3499624729156494,\n",
       "  0.3490365743637085,\n",
       "  0.3492145538330078,\n",
       "  0.3483911454677582,\n",
       "  0.34808456897735596,\n",
       "  0.34721192717552185,\n",
       "  0.346910685300827,\n",
       "  0.34630489349365234,\n",
       "  0.34584566950798035],\n",
       " 'mae': [0.8892966508865356,\n",
       "  0.5993583798408508,\n",
       "  0.577479362487793,\n",
       "  0.558142364025116,\n",
       "  0.542133629322052,\n",
       "  0.529751718044281,\n",
       "  0.518592119216919,\n",
       "  0.5096290707588196,\n",
       "  0.5025359988212585,\n",
       "  0.4959278404712677,\n",
       "  0.4896956980228424,\n",
       "  0.48507025837898254,\n",
       "  0.48114851117134094,\n",
       "  0.47656989097595215,\n",
       "  0.47358405590057373,\n",
       "  0.4702601432800293,\n",
       "  0.4676000773906708,\n",
       "  0.4649645686149597,\n",
       "  0.46159082651138306,\n",
       "  0.46004408597946167,\n",
       "  0.45732980966567993,\n",
       "  0.4559226632118225,\n",
       "  0.4541971981525421,\n",
       "  0.4514613151550293,\n",
       "  0.45023712515830994,\n",
       "  0.4487706422805786,\n",
       "  0.447237104177475,\n",
       "  0.44550415873527527,\n",
       "  0.44481360912323,\n",
       "  0.4434996247291565,\n",
       "  0.4420064389705658,\n",
       "  0.44095098972320557,\n",
       "  0.4407837688922882,\n",
       "  0.4392606019973755,\n",
       "  0.4382893145084381,\n",
       "  0.4378648102283478,\n",
       "  0.43653449416160583,\n",
       "  0.4362204670906067,\n",
       "  0.4352169930934906,\n",
       "  0.43449121713638306,\n",
       "  0.433448851108551,\n",
       "  0.4334526062011719,\n",
       "  0.4321359694004059,\n",
       "  0.43142709136009216,\n",
       "  0.43174421787261963,\n",
       "  0.4297657608985901,\n",
       "  0.43030887842178345,\n",
       "  0.42894792556762695,\n",
       "  0.42897480726242065,\n",
       "  0.4281558692455292,\n",
       "  0.42705217003822327,\n",
       "  0.4271692931652069,\n",
       "  0.4263034760951996,\n",
       "  0.42586106061935425,\n",
       "  0.4257625341415405,\n",
       "  0.4248199462890625,\n",
       "  0.42457231879234314,\n",
       "  0.4236447513103485,\n",
       "  0.42368656396865845,\n",
       "  0.4231063425540924,\n",
       "  0.422329843044281,\n",
       "  0.4225388765335083,\n",
       "  0.4214153587818146,\n",
       "  0.42169272899627686,\n",
       "  0.4213455319404602,\n",
       "  0.4206323027610779,\n",
       "  0.4201696813106537,\n",
       "  0.41982534527778625,\n",
       "  0.4188852608203888,\n",
       "  0.41921284794807434,\n",
       "  0.418799489736557,\n",
       "  0.4185211956501007,\n",
       "  0.4179462492465973,\n",
       "  0.4176025986671448,\n",
       "  0.416831374168396,\n",
       "  0.4171178936958313,\n",
       "  0.4158971905708313,\n",
       "  0.4165540337562561,\n",
       "  0.415727823972702,\n",
       "  0.4156098961830139],\n",
       " 'val_loss': [0.8797987103462219,\n",
       "  0.6420254111289978,\n",
       "  0.589079737663269,\n",
       "  0.54546719789505,\n",
       "  0.5408936142921448,\n",
       "  0.4903126060962677,\n",
       "  0.4728315770626068,\n",
       "  0.5017253160476685,\n",
       "  0.451064795255661,\n",
       "  0.4330177903175354,\n",
       "  0.4991108477115631,\n",
       "  0.4179278314113617,\n",
       "  0.44088876247406006,\n",
       "  0.4238821268081665,\n",
       "  0.4480248987674713,\n",
       "  0.41133445501327515,\n",
       "  0.4454249143600464,\n",
       "  0.45374637842178345,\n",
       "  0.40842658281326294,\n",
       "  0.45806536078453064,\n",
       "  0.4266926944255829,\n",
       "  0.46774592995643616,\n",
       "  0.3939915597438812,\n",
       "  0.42766427993774414,\n",
       "  0.44141507148742676,\n",
       "  0.4365401268005371,\n",
       "  0.3854198753833771,\n",
       "  0.43295976519584656,\n",
       "  0.4135218560695648,\n",
       "  0.4343792200088501,\n",
       "  0.4016262888908386,\n",
       "  0.4458604156970978,\n",
       "  0.3866463601589203,\n",
       "  0.3922860324382782,\n",
       "  0.4512174129486084,\n",
       "  0.36394190788269043,\n",
       "  0.40684083104133606,\n",
       "  0.3775958716869354,\n",
       "  0.37737974524497986,\n",
       "  0.3939821422100067,\n",
       "  0.40174436569213867,\n",
       "  0.4093751311302185,\n",
       "  0.4115789532661438,\n",
       "  0.4304344058036804,\n",
       "  0.37124699354171753,\n",
       "  0.38594508171081543,\n",
       "  0.376621276140213,\n",
       "  0.41722801327705383,\n",
       "  0.3608132600784302,\n",
       "  0.35033348202705383,\n",
       "  0.39983049035072327,\n",
       "  0.3504493236541748,\n",
       "  0.42643481492996216,\n",
       "  0.34721481800079346,\n",
       "  0.36430490016937256,\n",
       "  0.3637969195842743,\n",
       "  0.3478027284145355,\n",
       "  0.4113091826438904,\n",
       "  0.3814261853694916,\n",
       "  0.361044704914093,\n",
       "  0.3885051906108856,\n",
       "  0.36948466300964355,\n",
       "  0.3630331754684448,\n",
       "  0.3432607054710388,\n",
       "  0.3548126518726349,\n",
       "  0.3569658100605011,\n",
       "  0.3722228407859802,\n",
       "  0.3611903190612793,\n",
       "  0.35067328810691833,\n",
       "  0.3817104697227478,\n",
       "  0.37713193893432617,\n",
       "  0.36266282200813293,\n",
       "  0.33566221594810486,\n",
       "  0.39102813601493835,\n",
       "  0.3895629048347473,\n",
       "  0.3491787314414978,\n",
       "  0.3887530267238617,\n",
       "  0.36582818627357483,\n",
       "  0.3637012243270874,\n",
       "  0.36463257670402527],\n",
       " 'val_mae': [0.6026318669319153,\n",
       "  0.5763723850250244,\n",
       "  0.5502772331237793,\n",
       "  0.534281313419342,\n",
       "  0.5201656818389893,\n",
       "  0.5045694708824158,\n",
       "  0.49619969725608826,\n",
       "  0.49206578731536865,\n",
       "  0.48105910420417786,\n",
       "  0.47347646951675415,\n",
       "  0.4778074026107788,\n",
       "  0.46584856510162354,\n",
       "  0.46577662229537964,\n",
       "  0.4620625376701355,\n",
       "  0.46006855368614197,\n",
       "  0.4549531042575836,\n",
       "  0.4538361132144928,\n",
       "  0.45184800028800964,\n",
       "  0.4477086663246155,\n",
       "  0.45054298639297485,\n",
       "  0.44869232177734375,\n",
       "  0.4484681189060211,\n",
       "  0.4389905333518982,\n",
       "  0.4409761428833008,\n",
       "  0.4411562383174896,\n",
       "  0.4393332004547119,\n",
       "  0.43537744879722595,\n",
       "  0.44010308384895325,\n",
       "  0.43728289008140564,\n",
       "  0.43581831455230713,\n",
       "  0.43319469690322876,\n",
       "  0.4379950165748596,\n",
       "  0.43194225430488586,\n",
       "  0.4322570264339447,\n",
       "  0.43577542901039124,\n",
       "  0.42683690786361694,\n",
       "  0.4309115707874298,\n",
       "  0.4276334047317505,\n",
       "  0.4266054630279541,\n",
       "  0.4261508882045746,\n",
       "  0.4280356168746948,\n",
       "  0.42759138345718384,\n",
       "  0.4270036518573761,\n",
       "  0.4296358525753021,\n",
       "  0.4225909113883972,\n",
       "  0.42522457242012024,\n",
       "  0.4221592843532562,\n",
       "  0.42619651556015015,\n",
       "  0.4218800961971283,\n",
       "  0.4188309907913208,\n",
       "  0.4252191483974457,\n",
       "  0.4175906777381897,\n",
       "  0.42341914772987366,\n",
       "  0.41863372921943665,\n",
       "  0.41823065280914307,\n",
       "  0.41850587725639343,\n",
       "  0.4156740605831146,\n",
       "  0.41969817876815796,\n",
       "  0.4191420376300812,\n",
       "  0.4183882772922516,\n",
       "  0.4228895604610443,\n",
       "  0.41666772961616516,\n",
       "  0.4180005192756653,\n",
       "  0.41445836424827576,\n",
       "  0.4143374562263489,\n",
       "  0.41422799229621887,\n",
       "  0.4162187874317169,\n",
       "  0.4136619567871094,\n",
       "  0.41456732153892517,\n",
       "  0.4137607216835022,\n",
       "  0.41501209139823914,\n",
       "  0.41253727674484253,\n",
       "  0.4088854193687439,\n",
       "  0.4141521751880646,\n",
       "  0.41589316725730896,\n",
       "  0.4098818004131317,\n",
       "  0.41512665152549744,\n",
       "  0.4123404622077942,\n",
       "  0.41145095229148865,\n",
       "  0.4103702902793884]}"
      ]
     },
     "execution_count": 26,
     "metadata": {},
     "output_type": "execute_result"
    }
   ],
   "source": [
    "model_history.history"
   ]
  },
  {
   "cell_type": "code",
   "execution_count": 27,
   "metadata": {},
   "outputs": [
    {
     "data": {
      "image/png": "[encoded data removed]",
      "text/plain": [
       "<Figure size 576x360 with 1 Axes>"
      ]
     },
     "metadata": {
      "needs_background": "light"
     },
     "output_type": "display_data"
    }
   ],
   "source": [
    "pd.DataFrame(model_history.history).plot(figsize=(8, 5))\n",
    "plt.grid(True)\n",
    "plt.gca().set_ylim(0, 1)\n",
    "\n",
    "plt.show()"
   ]
  },
  {
   "cell_type": "code",
   "execution_count": null,
   "metadata": {},
   "outputs": [],
   "source": []
  },
  {
   "cell_type": "code",
   "execution_count": null,
   "metadata": {},
   "outputs": [],
   "source": []
  },
  {
   "cell_type": "code",
   "execution_count": null,
   "metadata": {},
   "outputs": [],
   "source": []
  },
  {
   "cell_type": "code",
   "execution_count": null,
   "metadata": {},
   "outputs": [],
   "source": []
  },
  {
   "cell_type": "code",
   "execution_count": null,
   "metadata": {},
   "outputs": [],
   "source": []
  },
  {
   "cell_type": "code",
   "execution_count": 28,
   "metadata": {},
   "outputs": [
    {
     "data": {
      "text/plain": [
       "'C:\\\\Users\\\\User\\\\Desktop\\\\internshala deep learnig\\\\ANN\\\\Python_codes'"
      ]
     },
     "execution_count": 28,
     "metadata": {},
     "output_type": "execute_result"
    }
   ],
   "source": [
    "%pwd"
   ]
  },
  {
   "cell_type": "code",
   "execution_count": null,
   "metadata": {},
   "outputs": [],
   "source": []
  },
  {
   "cell_type": "code",
   "execution_count": null,
   "metadata": {},
   "outputs": [],
   "source": []
  },
  {
   "cell_type": "code",
   "execution_count": null,
   "metadata": {},
   "outputs": [],
   "source": []
  },
  {
   "cell_type": "markdown",
   "metadata": {},
   "source": [
    "# Saving and Restoring"
   ]
  },
  {
   "cell_type": "code",
   "execution_count": 29,
   "metadata": {},
   "outputs": [],
   "source": [
    "model.save(\"my_Func_model.h5\")"
   ]
  },
  {
   "cell_type": "code",
   "execution_count": 30,
   "metadata": {},
   "outputs": [
    {
     "data": {
      "text/plain": [
       "'C:\\\\Users\\\\User\\\\Desktop\\\\internshala deep learnig\\\\ANN\\\\Python_codes'"
      ]
     },
     "execution_count": 30,
     "metadata": {},
     "output_type": "execute_result"
    }
   ],
   "source": [
    "%pwd"
   ]
  },
  {
   "cell_type": "code",
   "execution_count": 31,
   "metadata": {},
   "outputs": [
    {
     "name": "stdout",
     "output_type": "stream",
     "text": [
      "[WinError 2] The system cannot find the file specified: 'C:\\\\\\\\Users\\\\\\\\pukhr'\n",
      "C:\\Users\\User\\Desktop\\internshala deep learnig\\ANN\\Python_codes\n"
     ]
    }
   ],
   "source": [
    "%cd C:\\\\Users\\\\pukhr"
   ]
  },
  {
   "cell_type": "code",
   "execution_count": 32,
   "metadata": {},
   "outputs": [],
   "source": [
    "del model"
   ]
  },
  {
   "cell_type": "code",
   "execution_count": 33,
   "metadata": {},
   "outputs": [],
   "source": [
    "keras.backend.clear_session()"
   ]
  },
  {
   "cell_type": "code",
   "execution_count": 34,
   "metadata": {},
   "outputs": [],
   "source": [
    "model = keras.models.load_model(\"my_Func_model.h5\")"
   ]
  },
  {
   "cell_type": "code",
   "execution_count": 35,
   "metadata": {},
   "outputs": [
    {
     "name": "stdout",
     "output_type": "stream",
     "text": [
      "Model: \"model\"\n",
      "__________________________________________________________________________________________________\n",
      "Layer (type)                    Output Shape         Param #     Connected to                     \n",
      "==================================================================================================\n",
      "input_1 (InputLayer)            [(None, 8)]          0                                            \n",
      "__________________________________________________________________________________________________\n",
      "dense (Dense)                   (None, 30)           270         input_1[0][0]                    \n",
      "__________________________________________________________________________________________________\n",
      "dense_1 (Dense)                 (None, 30)           930         dense[0][0]                      \n",
      "__________________________________________________________________________________________________\n",
      "concatenate (Concatenate)       (None, 38)           0           input_1[0][0]                    \n",
      "                                                                 dense_1[0][0]                    \n",
      "__________________________________________________________________________________________________\n",
      "dense_2 (Dense)                 (None, 1)            39          concatenate[0][0]                \n",
      "==================================================================================================\n",
      "Total params: 1,239\n",
      "Trainable params: 1,239\n",
      "Non-trainable params: 0\n",
      "__________________________________________________________________________________________________\n"
     ]
    }
   ],
   "source": [
    "model.summary()"
   ]
  },
  {
   "cell_type": "code",
   "execution_count": 36,
   "metadata": {},
   "outputs": [
    {
     "name": "stdout",
     "output_type": "stream",
     "text": [
      "[[0.7182212]\n",
      " [1.6819828]\n",
      " [4.1708364]]\n"
     ]
    }
   ],
   "source": [
    "y_pred = model.predict(X_new)\n",
    "print (y_pred)"
   ]
  },
  {
   "cell_type": "markdown",
   "metadata": {},
   "source": [
    "# Using Callbacks during Training"
   ]
  },
  {
   "cell_type": "code",
   "execution_count": 37,
   "metadata": {},
   "outputs": [],
   "source": [
    "keras.backend.clear_session()\n",
    "np.random.seed(42)\n",
    "tf.random.set_seed(42)"
   ]
  },
  {
   "cell_type": "code",
   "execution_count": 38,
   "metadata": {},
   "outputs": [],
   "source": [
    "model = keras.models.Sequential([\n",
    "    keras.layers.Dense(30, activation=\"relu\", input_shape=[8]),\n",
    "    keras.layers.Dense(30, activation=\"relu\"),\n",
    "    keras.layers.Dense(1)\n",
    "])    "
   ]
  },
  {
   "cell_type": "code",
   "execution_count": 39,
   "metadata": {},
   "outputs": [
    {
     "name": "stderr",
     "output_type": "stream",
     "text": [
      "C:\\Users\\User\\anaconda3\\lib\\site-packages\\tensorflow\\python\\keras\\optimizer_v2\\optimizer_v2.py:374: UserWarning: The `lr` argument is deprecated, use `learning_rate` instead.\n",
      "  warnings.warn(\n"
     ]
    }
   ],
   "source": [
    "model.compile(loss=\"mse\", optimizer=keras.optimizers.SGD(lr=1e-3))"
   ]
  },
  {
   "cell_type": "code",
   "execution_count": 40,
   "metadata": {},
   "outputs": [],
   "source": [
    "checkpoint_cb = keras.callbacks.ModelCheckpoint(\"Model-{epoch:02d}.h5\")"
   ]
  },
  {
   "cell_type": "code",
   "execution_count": 41,
   "metadata": {},
   "outputs": [
    {
     "name": "stdout",
     "output_type": "stream",
     "text": [
      "Epoch 1/10\n",
      "363/363 [==============================] - 1s 2ms/step - loss: 1.8866 - val_loss: 0.7126\n",
      "Epoch 2/10\n",
      "363/363 [==============================] - 1s 2ms/step - loss: 0.6577 - val_loss: 0.6880\n",
      "Epoch 3/10\n",
      "363/363 [==============================] - 1s 2ms/step - loss: 0.5934 - val_loss: 0.5803\n",
      "Epoch 4/10\n",
      "363/363 [==============================] - ETA: 0s - loss: 0.559 - 1s 2ms/step - loss: 0.5557 - val_loss: 0.5166\n",
      "Epoch 5/10\n",
      "363/363 [==============================] - 1s 2ms/step - loss: 0.5272 - val_loss: 0.4895\n",
      "Epoch 6/10\n",
      "363/363 [==============================] - 1s 2ms/step - loss: 0.5033 - val_loss: 0.4951\n",
      "Epoch 7/10\n",
      "363/363 [==============================] - 1s 2ms/step - loss: 0.4854 - val_loss: 0.4861\n",
      "Epoch 8/10\n",
      "363/363 [==============================] - 1s 2ms/step - loss: 0.4709 - val_loss: 0.4554\n",
      "Epoch 9/10\n",
      "363/363 [==============================] - 1s 2ms/step - loss: 0.4578 - val_loss: 0.4413\n",
      "Epoch 10/10\n",
      "363/363 [==============================] - 1s 2ms/step - loss: 0.4474 - val_loss: 0.4379\n"
     ]
    }
   ],
   "source": [
    "history = model.fit(X_train, y_train, epochs=10,\n",
    "                    validation_data=(X_valid, y_valid),\n",
    "                    callbacks=[checkpoint_cb])"
   ]
  },
  {
   "cell_type": "code",
   "execution_count": 42,
   "metadata": {},
   "outputs": [],
   "source": [
    "del model\n",
    "keras.backend.clear_session()"
   ]
  },
  {
   "cell_type": "code",
   "execution_count": 43,
   "metadata": {},
   "outputs": [],
   "source": [
    "model = keras.models.load_model(\"Model-10.h5\")"
   ]
  },
  {
   "cell_type": "code",
   "execution_count": 44,
   "metadata": {},
   "outputs": [
    {
     "name": "stdout",
     "output_type": "stream",
     "text": [
      "1/1 [==============================] - 0s 220ms/step - loss: 0.4382\n"
     ]
    }
   ],
   "source": [
    "mse_test = model.evaluate(X_test, y_test,batch_size=5160)"
   ]
  },
  {
   "cell_type": "code",
   "execution_count": 45,
   "metadata": {},
   "outputs": [
    {
     "name": "stdout",
     "output_type": "stream",
     "text": [
      "0.4382285475730896\n"
     ]
    }
   ],
   "source": [
    "print (mse_test)"
   ]
  },
  {
   "cell_type": "code",
   "execution_count": 46,
   "metadata": {},
   "outputs": [
    {
     "data": {
      "text/plain": [
       "['loss']"
      ]
     },
     "execution_count": 46,
     "metadata": {},
     "output_type": "execute_result"
    }
   ],
   "source": [
    "model.metrics_names"
   ]
  },
  {
   "cell_type": "code",
   "execution_count": 47,
   "metadata": {},
   "outputs": [],
   "source": [
    "y_pred = model.predict(X_test)"
   ]
  },
  {
   "cell_type": "code",
   "execution_count": 48,
   "metadata": {},
   "outputs": [],
   "source": [
    "y_diff=y_pred-y_test"
   ]
  },
  {
   "cell_type": "code",
   "execution_count": 49,
   "metadata": {},
   "outputs": [
    {
     "data": {
      "text/plain": [
       "(5160, 1)"
      ]
     },
     "execution_count": 49,
     "metadata": {},
     "output_type": "execute_result"
    }
   ],
   "source": [
    "y_pred.shape"
   ]
  },
  {
   "cell_type": "code",
   "execution_count": 50,
   "metadata": {},
   "outputs": [
    {
     "ename": "TypeError",
     "evalue": "ufunc 'bitwise_xor' not supported for the input types, and the inputs could not be safely coerced to any supported types according to the casting rule ''safe''",
     "output_type": "error",
     "traceback": [
      "\u001b[1;31m---------------------------------------------------------------------------\u001b[0m",
      "\u001b[1;31mTypeError\u001b[0m                                 Traceback (most recent call last)",
      "\u001b[1;32m<ipython-input-50-988b1ea7b8ff>\u001b[0m in \u001b[0;36m<module>\u001b[1;34m\u001b[0m\n\u001b[1;32m----> 1\u001b[1;33m \u001b[0mmse\u001b[0m \u001b[1;33m=\u001b[0m \u001b[1;33m(\u001b[0m\u001b[0my_diff\u001b[0m\u001b[1;33m^\u001b[0m\u001b[1;36m2\u001b[0m\u001b[1;33m)\u001b[0m\u001b[1;33m\u001b[0m\u001b[1;33m\u001b[0m\u001b[0m\n\u001b[0m",
      "\u001b[1;31mTypeError\u001b[0m: ufunc 'bitwise_xor' not supported for the input types, and the inputs could not be safely coerced to any supported types according to the casting rule ''safe''"
     ]
    }
   ],
   "source": [
    "mse = (y_diff^2)"
   ]
  },
  {
   "cell_type": "code",
   "execution_count": null,
   "metadata": {},
   "outputs": [],
   "source": []
  },
  {
   "cell_type": "markdown",
   "metadata": {},
   "source": [
    "### Best Model Only"
   ]
  },
  {
   "cell_type": "code",
   "execution_count": 51,
   "metadata": {},
   "outputs": [],
   "source": [
    "del model\n",
    "keras.backend.clear_session()"
   ]
  },
  {
   "cell_type": "code",
   "execution_count": 52,
   "metadata": {},
   "outputs": [],
   "source": [
    "model = keras.models.Sequential([\n",
    "    keras.layers.Dense(30, activation=\"relu\", input_shape=[8]),\n",
    "    keras.layers.Dense(30, activation=\"relu\"),\n",
    "    keras.layers.Dense(1)\n",
    "])    "
   ]
  },
  {
   "cell_type": "code",
   "execution_count": 53,
   "metadata": {},
   "outputs": [],
   "source": [
    "model.compile(loss=\"mse\", optimizer=keras.optimizers.SGD(lr=1e-3))"
   ]
  },
  {
   "cell_type": "code",
   "execution_count": 54,
   "metadata": {},
   "outputs": [],
   "source": [
    "checkpoint_cb = keras.callbacks.ModelCheckpoint(\"Best_Model.h5\", save_best_only=True)"
   ]
  },
  {
   "cell_type": "code",
   "execution_count": 55,
   "metadata": {},
   "outputs": [
    {
     "name": "stdout",
     "output_type": "stream",
     "text": [
      "Epoch 1/10\n",
      "363/363 [==============================] - 5s 2ms/step - loss: 1.4581 - val_loss: 0.7883\n",
      "Epoch 2/10\n",
      "363/363 [==============================] - 1s 2ms/step - loss: 0.7368 - val_loss: 0.7306\n",
      "Epoch 3/10\n",
      "363/363 [==============================] - 1s 2ms/step - loss: 0.6516 - val_loss: 0.6501\n",
      "Epoch 4/10\n",
      "363/363 [==============================] - 1s 2ms/step - loss: 0.5951 - val_loss: 0.5551\n",
      "Epoch 5/10\n",
      "363/363 [==============================] - 1s 2ms/step - loss: 0.5536 - val_loss: 0.5025\n",
      "Epoch 6/10\n",
      "363/363 [==============================] - 1s 2ms/step - loss: 0.5199 - val_loss: 0.4728\n",
      "Epoch 7/10\n",
      "363/363 [==============================] - 1s 3ms/step - loss: 0.4940 - val_loss: 0.4497\n",
      "Epoch 8/10\n",
      "363/363 [==============================] - 1s 3ms/step - loss: 0.4730 - val_loss: 0.4359\n",
      "Epoch 9/10\n",
      "363/363 [==============================] - 1s 4ms/step - loss: 0.4563 - val_loss: 0.4267\n",
      "Epoch 10/10\n",
      "363/363 [==============================] - 1s 2ms/step - loss: 0.4431 - val_loss: 0.4224\n"
     ]
    }
   ],
   "source": [
    "history = model.fit(X_train, y_train, epochs=10,\n",
    "                    validation_data=(X_valid, y_valid),\n",
    "                    callbacks=[checkpoint_cb])"
   ]
  },
  {
   "cell_type": "code",
   "execution_count": 56,
   "metadata": {},
   "outputs": [
    {
     "name": "stdout",
     "output_type": "stream",
     "text": [
      "162/162 [==============================] - 0s 1ms/step - loss: 0.4366\n"
     ]
    }
   ],
   "source": [
    "model = keras.models.load_model(\"Best_Model.h5\") # rollback to best model\n",
    "mse_test = model.evaluate(X_test, y_test)"
   ]
  },
  {
   "cell_type": "markdown",
   "metadata": {},
   "source": [
    "### Best Model Only"
   ]
  },
  {
   "cell_type": "code",
   "execution_count": 57,
   "metadata": {},
   "outputs": [],
   "source": [
    "del model\n",
    "keras.backend.clear_session()"
   ]
  },
  {
   "cell_type": "code",
   "execution_count": 58,
   "metadata": {},
   "outputs": [],
   "source": [
    "model = keras.models.Sequential([\n",
    "    keras.layers.Dense(30, activation=\"relu\", input_shape=[8]),\n",
    "    keras.layers.Dense(30, activation=\"relu\"),\n",
    "    keras.layers.Dense(1)\n",
    "])    "
   ]
  },
  {
   "cell_type": "code",
   "execution_count": 59,
   "metadata": {},
   "outputs": [],
   "source": [
    "model.compile(loss=\"mse\", optimizer=keras.optimizers.SGD(lr=1e-3))"
   ]
  },
  {
   "cell_type": "code",
   "execution_count": 60,
   "metadata": {},
   "outputs": [],
   "source": [
    "checkpoint_cb = keras.callbacks.ModelCheckpoint(\"early_stop_model.h5\", save_best_only=True)"
   ]
  },
  {
   "cell_type": "code",
   "execution_count": 61,
   "metadata": {},
   "outputs": [],
   "source": [
    "early_stopping_cb = keras.callbacks.EarlyStopping(patience=10,\n",
    "                                                  restore_best_weights=True)\n",
    "\n",
    "#     patience: Number of epochs with no improvement after which training will be stopped."
   ]
  },
  {
   "cell_type": "code",
   "execution_count": 62,
   "metadata": {},
   "outputs": [
    {
     "name": "stdout",
     "output_type": "stream",
     "text": [
      "Epoch 1/200\n",
      "363/363 [==============================] - 1s 2ms/step - loss: 2.5780 - val_loss: 2.2266\n",
      "Epoch 2/200\n",
      "363/363 [==============================] - 1s 2ms/step - loss: 1.0896 - val_loss: 0.9287\n",
      "Epoch 3/200\n",
      "363/363 [==============================] - 1s 3ms/step - loss: 0.8430 - val_loss: 0.9400\n",
      "Epoch 4/200\n",
      "363/363 [==============================] - 1s 2ms/step - loss: 0.7673 - val_loss: 0.7490\n",
      "Epoch 5/200\n",
      "363/363 [==============================] - 1s 2ms/step - loss: 0.7194 - val_loss: 0.6682\n",
      "Epoch 6/200\n",
      "363/363 [==============================] - 1s 3ms/step - loss: 0.6799 - val_loss: 0.6534\n",
      "Epoch 7/200\n",
      "363/363 [==============================] - 1s 3ms/step - loss: 0.6466 - val_loss: 0.6407\n",
      "Epoch 8/200\n",
      "363/363 [==============================] - 1s 3ms/step - loss: 0.6173 - val_loss: 0.5704\n",
      "Epoch 9/200\n",
      "363/363 [==============================] - 1s 2ms/step - loss: 0.5894 - val_loss: 0.5552\n",
      "Epoch 10/200\n",
      "363/363 [==============================] - 1s 2ms/step - loss: 0.5645 - val_loss: 0.5572\n",
      "Epoch 11/200\n",
      "363/363 [==============================] - 1s 2ms/step - loss: 0.5428 - val_loss: 0.5168\n",
      "Epoch 12/200\n",
      "363/363 [==============================] - 1s 3ms/step - loss: 0.5212 - val_loss: 0.5067\n",
      "Epoch 13/200\n",
      "363/363 [==============================] - 1s 3ms/step - loss: 0.5034 - val_loss: 0.4662\n",
      "Epoch 14/200\n",
      "363/363 [==============================] - 1s 3ms/step - loss: 0.4866 - val_loss: 0.4498\n",
      "Epoch 15/200\n",
      "363/363 [==============================] - 1s 2ms/step - loss: 0.4721 - val_loss: 0.4385\n",
      "Epoch 16/200\n",
      "363/363 [==============================] - 1s 2ms/step - loss: 0.4594 - val_loss: 0.4251\n",
      "Epoch 17/200\n",
      "363/363 [==============================] - 1s 3ms/step - loss: 0.4489 - val_loss: 0.4241\n",
      "Epoch 18/200\n",
      "363/363 [==============================] - 1s 2ms/step - loss: 0.4396 - val_loss: 0.4331\n",
      "Epoch 19/200\n",
      "363/363 [==============================] - 1s 2ms/step - loss: 0.4315 - val_loss: 0.4004\n",
      "Epoch 20/200\n",
      "363/363 [==============================] - 1s 2ms/step - loss: 0.4252 - val_loss: 0.4191\n",
      "Epoch 21/200\n",
      "363/363 [==============================] - 1s 2ms/step - loss: 0.4190 - val_loss: 0.3939\n",
      "Epoch 22/200\n",
      "363/363 [==============================] - 1s 2ms/step - loss: 0.4140 - val_loss: 0.4230\n",
      "Epoch 23/200\n",
      "363/363 [==============================] - 1s 2ms/step - loss: 0.4094 - val_loss: 0.3836\n",
      "Epoch 24/200\n",
      "363/363 [==============================] - 1s 2ms/step - loss: 0.4052 - val_loss: 0.4113\n",
      "Epoch 25/200\n",
      "363/363 [==============================] - 1s 2ms/step - loss: 0.4014 - val_loss: 0.4086\n",
      "Epoch 26/200\n",
      "363/363 [==============================] - 1s 2ms/step - loss: 0.3981 - val_loss: 0.4039\n",
      "Epoch 27/200\n",
      "363/363 [==============================] - 1s 2ms/step - loss: 0.3950 - val_loss: 0.3685\n",
      "Epoch 28/200\n",
      "363/363 [==============================] - 1s 2ms/step - loss: 0.3920 - val_loss: 0.4138\n",
      "Epoch 29/200\n",
      "363/363 [==============================] - 1s 2ms/step - loss: 0.3895 - val_loss: 0.3730\n",
      "Epoch 30/200\n",
      "363/363 [==============================] - 1s 2ms/step - loss: 0.3867 - val_loss: 0.4090\n",
      "Epoch 31/200\n",
      "363/363 [==============================] - 1s 2ms/step - loss: 0.3843 - val_loss: 0.3704\n",
      "Epoch 32/200\n",
      "363/363 [==============================] - 1s 2ms/step - loss: 0.3819 - val_loss: 0.4206\n",
      "Epoch 33/200\n",
      "363/363 [==============================] - 1s 2ms/step - loss: 0.3805 - val_loss: 0.3561\n",
      "Epoch 34/200\n",
      "363/363 [==============================] - 1s 2ms/step - loss: 0.3781 - val_loss: 0.3605\n",
      "Epoch 35/200\n",
      "363/363 [==============================] - 1s 2ms/step - loss: 0.3762 - val_loss: 0.4080\n",
      "Epoch 36/200\n",
      "363/363 [==============================] - 1s 2ms/step - loss: 0.3745 - val_loss: 0.3594\n",
      "Epoch 37/200\n",
      "363/363 [==============================] - 1s 2ms/step - loss: 0.3729 - val_loss: 0.3986\n",
      "Epoch 38/200\n",
      "363/363 [==============================] - 1s 2ms/step - loss: 0.3715 - val_loss: 0.3487\n",
      "Epoch 39/200\n",
      "363/363 [==============================] - 1s 2ms/step - loss: 0.3696 - val_loss: 0.3573\n",
      "Epoch 40/200\n",
      "363/363 [==============================] - 1s 2ms/step - loss: 0.3680 - val_loss: 0.3542\n",
      "Epoch 41/200\n",
      "363/363 [==============================] - 1s 2ms/step - loss: 0.3668 - val_loss: 0.3699\n",
      "Epoch 42/200\n",
      "363/363 [==============================] - 1s 2ms/step - loss: 0.3657 - val_loss: 0.3762\n",
      "Epoch 43/200\n",
      "363/363 [==============================] - 1s 2ms/step - loss: 0.3641 - val_loss: 0.3723\n",
      "Epoch 44/200\n",
      "363/363 [==============================] - 1s 2ms/step - loss: 0.3628 - val_loss: 0.3838\n",
      "Epoch 45/200\n",
      "363/363 [==============================] - 1s 2ms/step - loss: 0.3620 - val_loss: 0.3427\n",
      "Epoch 46/200\n",
      "363/363 [==============================] - 1s 2ms/step - loss: 0.3605 - val_loss: 0.3664\n",
      "Epoch 47/200\n",
      "363/363 [==============================] - 1s 2ms/step - loss: 0.3595 - val_loss: 0.3478\n",
      "Epoch 48/200\n",
      "363/363 [==============================] - 1s 2ms/step - loss: 0.3584 - val_loss: 0.3780\n",
      "Epoch 49/200\n",
      "363/363 [==============================] - 1s 2ms/step - loss: 0.3578 - val_loss: 0.3394\n",
      "Epoch 50/200\n",
      "363/363 [==============================] - 1s 2ms/step - loss: 0.3565 - val_loss: 0.3388\n",
      "Epoch 51/200\n",
      "363/363 [==============================] - 1s 3ms/step - loss: 0.3553 - val_loss: 0.3670\n",
      "Epoch 52/200\n",
      "363/363 [==============================] - 1s 2ms/step - loss: 0.3548 - val_loss: 0.3358\n",
      "Epoch 53/200\n",
      "363/363 [==============================] - 1s 2ms/step - loss: 0.3538 - val_loss: 0.3837\n",
      "Epoch 54/200\n",
      "363/363 [==============================] - 1s 2ms/step - loss: 0.3531 - val_loss: 0.3354\n",
      "Epoch 55/200\n",
      "363/363 [==============================] - 1s 2ms/step - loss: 0.3522 - val_loss: 0.3434\n",
      "Epoch 56/200\n",
      "363/363 [==============================] - 1s 2ms/step - loss: 0.3513 - val_loss: 0.3454\n",
      "Epoch 57/200\n",
      "363/363 [==============================] - 1s 2ms/step - loss: 0.3505 - val_loss: 0.3372\n",
      "Epoch 58/200\n",
      "363/363 [==============================] - 1s 2ms/step - loss: 0.3495 - val_loss: 0.3674\n",
      "Epoch 59/200\n",
      "363/363 [==============================] - 1s 2ms/step - loss: 0.3491 - val_loss: 0.3593\n",
      "Epoch 60/200\n",
      "363/363 [==============================] - 1s 2ms/step - loss: 0.3483 - val_loss: 0.3387\n",
      "Epoch 61/200\n",
      "363/363 [==============================] - 1s 2ms/step - loss: 0.3471 - val_loss: 0.3605\n",
      "Epoch 62/200\n",
      "363/363 [==============================] - 1s 2ms/step - loss: 0.3467 - val_loss: 0.3600\n",
      "Epoch 63/200\n",
      "363/363 [==============================] - 1s 2ms/step - loss: 0.3456 - val_loss: 0.3566\n",
      "Epoch 64/200\n",
      "363/363 [==============================] - 1s 2ms/step - loss: 0.3454 - val_loss: 0.3374\n"
     ]
    }
   ],
   "source": [
    "history = model.fit(X_train, y_train, epochs=200,\n",
    "                    validation_data=(X_valid, y_valid),\n",
    "                    callbacks=[checkpoint_cb, early_stopping_cb])"
   ]
  },
  {
   "cell_type": "code",
   "execution_count": 64,
   "metadata": {},
   "outputs": [
    {
     "name": "stdout",
     "output_type": "stream",
     "text": [
      "162/162 [==============================] - 0s 1ms/step - loss: 0.3481\n"
     ]
    }
   ],
   "source": [
    "model = keras.models.load_model(\"early_stop_model.h5\")\n",
    "mse_test = model.evaluate(X_test, y_test)"
   ]
  }
 ],
 "metadata": {
  "kernelspec": {
   "display_name": "Python 3",
   "language": "python",
   "name": "python3"
  },
  "language_info": {
   "codemirror_mode": {
    "name": "ipython",
    "version": 3
   },
   "file_extension": ".py",
   "mimetype": "text/x-python",
   "name": "python",
   "nbconvert_exporter": "python",
   "pygments_lexer": "ipython3",
   "version": "3.8.5"
  }
 },
 "nbformat": 4,
 "nbformat_minor": 2
}
